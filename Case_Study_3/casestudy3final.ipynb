{
 "cells": [
  {
   "cell_type": "markdown",
   "metadata": {},
   "source": [
    "### Case Study 3 : Textual analysis of movie reviews\n",
    "\n",
    "** Due Date: April 6, 2016 5:59PM**\n",
    "\n",
    "*------------"
   ]
  },
  {
   "cell_type": "markdown",
   "metadata": {},
   "source": [
    "<img src=\"http://www.conversational-technologies.com/nldemos/nlWordle.GIF\">"
   ]
  },
  {
   "cell_type": "markdown",
   "metadata": {},
   "source": [
    "**TEAM Members:** \n",
    "\n",
    "    Branden Diniz\n",
    "    \n",
    "    Xuanyu Li\n",
    "    \n",
    "    Dennis Silva\n",
    "    \n",
    "    Chuxin Wei"
   ]
  },
  {
   "cell_type": "markdown",
   "metadata": {},
   "source": [
    "**Desired outcome of the case study.**\n",
    "* In this case study we will look at movie reviews from the v2.0 polarity dataset comes from\n",
    "the http://www.cs.cornell.edu/people/pabo/movie-review-data.\n",
    "    * It contains written reviews of movies divided into positive and negative reviews.\n",
    "* As in Case Study 2 idea is to *analyze* the data set, make *conjectures*, support or refute those conjectures with *data*, and *tell a story* about the data!\n",
    "    \n",
    "**Required Readings:** \n",
    "* This case study will be based upon the scikit-learn Python library\n",
    "* We will build upon the turtorial \"Working With Text Data\" which can be found at http://scikit-learn.org/stable/tutorial/text_analytics/working_with_text_data.html\n",
    "\n",
    "**Case study assumptions:**\n",
    "* You have access to a python installation\n",
    "\n",
    "**Required Python libraries:**\n",
    "* Numpy (www.numpy.org) (should already be installed from Case Study 2)\n",
    "* Matplotlib (matplotlib.org) (should already be installed from Case Study 2)\n",
    "* Scikit-learn (scikit-learn.org) (avaiable from Enthought Canopy)\n",
    "* You are also welcome to use the Python Natural Language Processing Toolkit (www.nltk.org) (though it is not required).\n",
    "\n",
    "** NOTE **\n",
    "* Please don't forget to save the notebook frequently when working in IPython Notebook, otherwise the changes you made can be lost.\n",
    "\n",
    "*----------------------"
   ]
  },
  {
   "cell_type": "markdown",
   "metadata": {},
   "source": [
    "## Problem 1 (20 points): Complete Exercise 2: Sentiment Analysis on movie reviews from http://scikit-learn.org/stable/tutorial/text_analytics/working_with_text_data.html"
   ]
  },
  {
   "cell_type": "markdown",
   "metadata": {},
   "source": [
    "* Assuming that you have downloaded the scikit-learn source code:\n",
    "    * The data cane be downloaded using doc/tutorial/text_analytics/data/movie_reviews/fetch_data.py\n",
    "    * A skeleton for the solution can be found in doc/tutorial/text_analytics/skeletons/exercise_02_sentiment.py\n",
    "    * A completed solution can be found in doc/tutorial/text_analytics/solutions/exercise_02_sentiment.py\n",
    "* **It is ok to use the solution provided in the scikit-learn distribution as a starting place for your work.**\n",
    "\n",
    "### Modify the solution to Exercise 2 so that it can run in this iPython notebook\n",
    "* This will likely involved moving around data files and/or small modifications to the script."
   ]
  },
  {
   "cell_type": "code",
   "execution_count": 43,
   "metadata": {
    "collapsed": false
   },
   "outputs": [
    {
     "name": "stdout",
     "output_type": "stream",
     "text": [
      "Dataset 'txt_sentoken' Downloaded\n"
     ]
    }
   ],
   "source": [
    "\"\"\"Script to download the movie review dataset\"\"\"\n",
    "\n",
    "import os\n",
    "import tarfile\n",
    "from contextlib import closing\n",
    "try:\n",
    "    from urllib import urlopen\n",
    "except ImportError:\n",
    "    from urllib.request import urlopen\n",
    "\n",
    "\n",
    "URL = (\"http://www.cs.cornell.edu/people/pabo/\"\n",
    "       \"movie-review-data/review_polarity.tar.gz\")\n",
    "\n",
    "ARCHIVE_NAME = URL.rsplit('/', 1)[1]\n",
    "DATA_FOLDER = \"txt_sentoken\"\n",
    "\n",
    "\n",
    "if not os.path.exists(DATA_FOLDER): # if path doesn't exist, create and download\n",
    "    \n",
    "    print(\"Dataset path does not exist\")\n",
    "    if not os.path.exists(ARCHIVE_NAME):\n",
    "        print(\"Downloading dataset from %s (3 MB)\" % URL)\n",
    "        opener = urlopen(URL)\n",
    "        with open(ARCHIVE_NAME, 'wb') as archive:\n",
    "            archive.write(opener.read())\n",
    "\n",
    "    print(\"Decompressing %s\" % ARCHIVE_NAME)\n",
    "    with closing(tarfile.open(ARCHIVE_NAME, \"r:gz\")) as archive:\n",
    "        archive.extractall(path='.')\n",
    "    os.remove(ARCHIVE_NAME)\n",
    "\n",
    "print(\"Dataset '%s' Downloaded\" % DATA_FOLDER)\n"
   ]
  },
  {
   "cell_type": "code",
   "execution_count": 45,
   "metadata": {
    "collapsed": false
   },
   "outputs": [
    {
     "name": "stdout",
     "output_type": "stream",
     "text": [
      "number of total samples:    2000\n",
      "number of training samples: 1500\n",
      "number of testing samples:  500\n",
      "Creation of Training/Testing Subsets Done\n"
     ]
    }
   ],
   "source": [
    "\"\"\"Create training and testing subsets of movie reviews\"\"\"\n",
    "\n",
    "import sys\n",
    "from sklearn.feature_extraction.text import TfidfVectorizer\n",
    "from sklearn.svm import LinearSVC\n",
    "from sklearn.pipeline import Pipeline\n",
    "#from sklearn.model_selection import GridSearchCV\n",
    "from sklearn.grid_search import GridSearchCV\n",
    "from sklearn.datasets import load_files\n",
    "#from sklearn.model_selection import train_test_split\n",
    "from sklearn.cross_validation import train_test_split\n",
    "from sklearn import metrics\n",
    "\n",
    "# params\n",
    "# testSize: Number 0-1, percent size of testing set\n",
    "testSize = 0.25\n",
    "# ran_seed: Random number generation seed, keeps all our data same.\n",
    "#       Change to 'None' if want different training/test subsets\n",
    "ran_seed = 1\n",
    "\n",
    "\n",
    " # the training data folder must be passed as first argument\n",
    "movie_reviews_data_folder = DATA_FOLDER\n",
    "dataset = load_files(movie_reviews_data_folder, shuffle=False)\n",
    "print(\"number of total samples:    %d\" % len(dataset.data))\n",
    "\n",
    "# split the dataset in training and test set:\n",
    "#  Test size set to 25% of the data, random_state set to 1 for random seed\n",
    "docs_train, docs_test, y_train, y_test = train_test_split(\n",
    "    dataset.data, dataset.target, test_size=testSize, random_state=ran_seed)\n",
    "print(\"number of training samples: %d\" % len(docs_train))\n",
    "print(\"number of testing samples:  %d\" % len(docs_test))\n",
    "\n",
    "\n",
    "print(\"Creation of Training/Testing Subsets Done\")"
   ]
  },
  {
   "cell_type": "code",
   "execution_count": 55,
   "metadata": {
    "collapsed": false
   },
   "outputs": [
    {
     "name": "stdout",
     "output_type": "stream",
     "text": [
      "Performing grid search...\n",
      "('pipeline:', ['vect', 'clf'])\n",
      "\n",
      "parameters:\n",
      "{'vect__ngram_range': [(1, 1), (1, 2)]}\n",
      "\n",
      "completed grid search in 56.487s\n"
     ]
    }
   ],
   "source": [
    "\"\"\" Creates classifier pipeline and finds whether unigrams or bigrams are better\"\"\"\n",
    "\n",
    "\n",
    "\n",
    "from pprint import pprint\n",
    "from time import time\n",
    "\n",
    "# NOTE: Params here are from tutorial, params will be experimented with in \n",
    "#       the following problems. This is used to get understanding.\n",
    "\n",
    "# TASK: Build a vectorizer / classifier pipeline that filters out tokens\n",
    "# that are too rare or too frequent\n",
    "pipeline = Pipeline([\n",
    "    ('vect', TfidfVectorizer(min_df=3, max_df=0.95)), # how to vectorize text data\n",
    "    ('clf', LinearSVC(C=1000)), # what algorithm to use\n",
    "])\n",
    "\n",
    "# TASK: Build a grid search to find out whether unigrams (words) or bigrams are\n",
    "# more useful. \n",
    "#    NOTE: This will take a while to run, can change n_jobs if possible\n",
    "\n",
    "# Fit the pipeline on the training set using grid search for the parameters\n",
    "parameters = {\n",
    "    'vect__ngram_range': [(1, 1), (1, 2)],\n",
    "}\n",
    "\n",
    "print(\"Performing grid search...\")\n",
    "print(\"pipeline:\", [name for name, _ in pipeline.steps])\n",
    "print\n",
    "print(\"parameters:\")\n",
    "pprint(parameters)\n",
    "t0 = time() # start timer\n",
    "\n",
    "grid_search = GridSearchCV(pipeline, parameters, n_jobs=1) # conduct grid search\n",
    "grid_search.fit(docs_train, y_train) # train the model here\n",
    "\n",
    "print\n",
    "print(\"completed grid search in %0.3fs\" % (time() - t0))"
   ]
  },
  {
   "cell_type": "code",
   "execution_count": 54,
   "metadata": {
    "collapsed": false
   },
   "outputs": [
    {
     "name": "stdout",
     "output_type": "stream",
     "text": [
      "Cross-validated Scores:\n",
      "[mean: 0.84067, std: 0.02509, params: {'vect__ngram_range': (1, 1)}, mean: 0.84667, std: 0.01794, params: {'vect__ngram_range': (1, 2)}]\n",
      "\n",
      "Best score: 0.847\n",
      "Best parameter set:\n",
      "\tvect__ngram_range: (1, 2)\n",
      "\n",
      "Classification Report:\n",
      "             precision    recall  f1-score   support\n",
      "\n",
      "        neg       0.88      0.84      0.86       255\n",
      "        pos       0.84      0.88      0.86       245\n",
      "\n",
      "avg / total       0.86      0.86      0.86       500\n",
      "\n",
      "\n",
      "Confusion Matrix:\n",
      "[[214  41]\n",
      " [ 29 216]]\n"
     ]
    }
   ],
   "source": [
    "\"\"\"Computes various evaluation data from gridsearch\"\"\"\n",
    "\n",
    "# TASK: print the cross-validated scores for the each parameters set\n",
    "# explored by the grid search\n",
    "print(\"Cross-validated Scores:\")\n",
    "print(grid_search.grid_scores_ )\n",
    "print\n",
    "\n",
    "# TASK: print best score found\n",
    "print(\"Best score: %0.3f\" % grid_search.best_score_)\n",
    "print(\"Best parameter set:\")\n",
    "best_parameters = grid_search.best_estimator_.get_params()\n",
    "\n",
    "for param_name in sorted(parameters.keys()):\n",
    "    print(\"\\t%s: %r\" % (param_name, best_parameters[param_name]))\n",
    "print\n",
    "\n",
    "# TASK: Predict the outcome on the testing set and store it in a variable\n",
    "# named y_predicted\n",
    "y_predicted = grid_search.predict(docs_test)\n",
    "\n",
    "# Print the classification report\n",
    "print(\"Classification Report:\")\n",
    "print(metrics.classification_report(y_test, y_predicted,\n",
    "                                    target_names=dataset.target_names))\n",
    "print\n",
    "\n",
    "# Print and plot the confusion matrix\n",
    "print(\"Confusion Matrix:\")\n",
    "cm = metrics.confusion_matrix(y_test, y_predicted)\n",
    "print(cm)"
   ]
  },
  {
   "cell_type": "markdown",
   "metadata": {},
   "source": [
    "## Problem 2 (20 points): Explore the scikit-learn TfidVectorizer class\n",
    "\n",
    "**Read the documentation for the TfidVectorizer class at http://scikit-learn.org/stable/modules/generated/sklearn.feature_extraction.text.TfidfVectorizer.html.** \n",
    "* Define the term frequency–inverse document frequency (TF-IDF) statistic (http://en.wikipedia.org/wiki/Tf%E2%80%93idf will likely help).\n",
    "* Run the TfidVectorizer class on the training data above (docs_train).\n",
    "* Explore the min_df and max_df parameters of TfidVectorizer.  What do they mean? How do they change the features you get?\n",
    "* Explore the ngram_range parameter of TfidVectorizer.  What does it mean? How does it change the features you get? (Note, large values  of ngram_range may take a long time to run!)"
   ]
  },
  {
   "cell_type": "markdown",
   "metadata": {},
   "source": [
    "**Define the term frequency–inverse document frequency (TF-IDF) statistic:**\n",
    "\n",
    "term frequency (tf):\n",
    "    The number of times a term (token) occurs in a document.\n",
    "\n",
    "inverse document frequency (idf):\n",
    "    A factor that when incorporated, diminishes the weight of a term (token) that occur very frequently in the document and increase the weight of terms that occur rarely.\n",
    "\n",
    "term frequency-inverse document frequency (tf-idf):\n",
    "    A numerical statistic that reflects how important a word is to a document in a collection. Provides balance between common and rare term importance. Is the multiplication of tf and idf. Ranges from 0 (not important) to 1 (very important). "
   ]
  },
  {
   "cell_type": "markdown",
   "metadata": {},
   "source": [
    "** Define min_df, max_df, and ngram_range parameters of TfidVectorizer:**\n",
    "\n",
    "TfidVectorizer: Converts a collection of raw documents to a matrix of TF-IDF features. Each row is a document and each column is a feature (ngram).\n",
    "\n",
    "min_df: When building a vocabulary (set of all ngrams), all terms with tf strictly less than this cut off will be ignored. If min_df is a float between 0.0 and 1.0, all terms that occur less than min_df percent of all documents will be ignored. If min_df is an integer all terms that occur in count less than min_df will be ignored.\n",
    "\n",
    "max_df: When building a vocabulary (set of all ngrams), all terms with tf strictly greater than this cut off will be ignored. If max_df is a float between 0.0 and 1.0, all terms that occur greater than max_df percent of all documents will be ignored. If man_df is an integer all terms that occur in count less than max_df will be ignored.\n",
    "\n",
    "ngram_range: The lower and upper boundary of the range of n-values for different n-grams to be extracted. All values of n such that min_n <= n <= max_n will be used. In other words, the number of words to consider as a term or object from each document."
   ]
  },
  {
   "cell_type": "code",
   "execution_count": 289,
   "metadata": {
    "collapsed": false,
    "scrolled": false
   },
   "outputs": [
    {
     "name": "stdout",
     "output_type": "stream",
     "text": [
      "TF-IDF matrix has 1500 documents\n",
      "\n",
      "Starting tests on default parameters...\n",
      "\n",
      "min_df = 1, max_df = 1.000000 provides: \n",
      "   35542 features totaling 500167 non-zero elements \n",
      "\n",
      "Starting tests on min_df parameter...\n",
      "\n",
      "min_df = 3, max_df = 1.000000 provides: \n",
      "   16047 features totaling 475692 non-zero elements \n",
      "\n",
      "min_df = 4, max_df = 1.000000 provides: \n",
      "   13172 features totaling 467067 non-zero elements \n",
      "\n",
      "min_df = 5, max_df = 1.000000 provides: \n",
      "   11233 features totaling 459311 non-zero elements \n",
      "\n",
      "min_df = 10, max_df = 1.000000 provides: \n",
      "   6715 features totaling 429698 non-zero elements \n",
      "\n",
      "min_df = 25, max_df = 1.000000 provides: \n",
      "   3137 features totaling 375598 non-zero elements \n",
      "\n",
      "min_df = 50, max_df = 1.000000 provides: \n",
      "   1694 features totaling 325931 non-zero elements \n",
      "\n",
      "min_df = 100, max_df = 1.000000 provides: \n",
      "   844 features totaling 267074 non-zero elements \n",
      "\n",
      "Done\n"
     ]
    }
   ],
   "source": [
    "\"\"\" Runs TfidVectorizer class over different parameters\"\"\"\n",
    "\n",
    "from sklearn.feature_extraction.text import TfidfVectorizer\n",
    "\n",
    "# Run TfidVectorizer on training data, no additional parameters\n",
    "min_df = 1 # default parameters\n",
    "max_df = 1.0\n",
    "vectorizer = TfidfVectorizer()\n",
    "tfidMat = vectorizer.fit_transform(docs_train)\n",
    "print (\"TF-IDF matrix has %d documents\" % tfidMat.shape[0])\n",
    "print\n",
    "print(\"Starting tests on default parameters...\\n\")\n",
    "print(\"min_df = %d, max_df = %f provides: \\n   %d features totaling %d non-zero elements \\n\" \n",
    "          % (min_df, max_df,tfidMat.shape[1], tfidMat.size))\n",
    "\n",
    "\n",
    "# explore min_df\n",
    "print(\"Starting tests on min_df parameter...\\n\")\n",
    "min_df = 3\n",
    "max_df = 1.0\n",
    "vectorizer = TfidfVectorizer(min_df = min_df, max_df = max_df)\n",
    "tfidMat = vectorizer.fit_transform(docs_train)\n",
    "print(\"min_df = %d, max_df = %f provides: \\n   %d features totaling %d non-zero elements \\n\" \n",
    "          % (min_df, max_df,tfidMat.shape[1], tfidMat.size))\n",
    "\n",
    "min_df = 4\n",
    "max_df = 1.0\n",
    "vectorizer = TfidfVectorizer(min_df = min_df, max_df = max_df)\n",
    "tfidMat = vectorizer.fit_transform(docs_train)\n",
    "print(\"min_df = %d, max_df = %f provides: \\n   %d features totaling %d non-zero elements \\n\" \n",
    "          % (min_df, max_df,tfidMat.shape[1], tfidMat.size))\n",
    "\n",
    "\n",
    "\n",
    "min_df = 5\n",
    "max_df = 1.0\n",
    "vectorizer = TfidfVectorizer(min_df = min_df, max_df = max_df)\n",
    "tfidMat = vectorizer.fit_transform(docs_train)\n",
    "print(\"min_df = %d, max_df = %f provides: \\n   %d features totaling %d non-zero elements \\n\" \n",
    "          % (min_df, max_df,tfidMat.shape[1], tfidMat.size))\n",
    "\n",
    "\n",
    "\n",
    "min_df = 10\n",
    "max_df = 1.0\n",
    "vectorizer = TfidfVectorizer(min_df = min_df, max_df = max_df)\n",
    "tfidMat = vectorizer.fit_transform(docs_train)\n",
    "print(\"min_df = %d, max_df = %f provides: \\n   %d features totaling %d non-zero elements \\n\" \n",
    "          % (min_df, max_df,tfidMat.shape[1], tfidMat.size))\n",
    "\n",
    "\n",
    "min_df = 25\n",
    "max_df = 1.0\n",
    "vectorizer = TfidfVectorizer(min_df = min_df, max_df = max_df)\n",
    "tfidMat = vectorizer.fit_transform(docs_train)\n",
    "print(\"min_df = %d, max_df = %f provides: \\n   %d features totaling %d non-zero elements \\n\" \n",
    "          % (min_df, max_df,tfidMat.shape[1], tfidMat.size))\n",
    "\n",
    "\n",
    "min_df = 50\n",
    "max_df = 1.0\n",
    "vectorizer = TfidfVectorizer(min_df = min_df, max_df = max_df)\n",
    "tfidMat = vectorizer.fit_transform(docs_train)\n",
    "print(\"min_df = %d, max_df = %f provides: \\n   %d features totaling %d non-zero elements \\n\" \n",
    "          % (min_df, max_df,tfidMat.shape[1], tfidMat.size))\n",
    "\n",
    "min_df = 100\n",
    "max_df = 1.0\n",
    "vectorizer = TfidfVectorizer(min_df = min_df, max_df = max_df)\n",
    "tfidMat = vectorizer.fit_transform(docs_train)\n",
    "print(\"min_df = %d, max_df = %f provides: \\n   %d features totaling %d non-zero elements \\n\" \n",
    "          % (min_df, max_df,tfidMat.shape[1], tfidMat.size))\n",
    "\n",
    "print (\"Done\")\n"
   ]
  },
  {
   "cell_type": "code",
   "execution_count": 293,
   "metadata": {
    "collapsed": false,
    "scrolled": true
   },
   "outputs": [
    {
     "name": "stdout",
     "output_type": "stream",
     "text": [
      "Starting tests on max_df parameter...\n",
      "\n",
      "min_df = 1, max_df = 0.900000 provides: \n",
      "   35528 features totaling 479637 non-zero elements \n",
      "\n",
      "min_df = 1, max_df = 0.500000 provides: \n",
      "   35465 features totaling 415039 non-zero elements \n",
      "\n",
      "min_df = 1, max_df = 0.100000 provides: \n",
      "   35000 features totaling 270344 non-zero elements \n",
      "\n",
      "min_df = 1, max_df = 0.050000 provides: \n",
      "   34419 features totaling 208865 non-zero elements \n",
      "\n",
      "min_df = 1, max_df = 0.010000 provides: \n",
      "   30922 features totaling 95990 non-zero elements \n",
      "\n",
      "min_df = 1, max_df = 0.005000 provides: \n",
      "   27606 features totaling 60153 non-zero elements \n",
      "\n",
      "min_df = 1, max_df = 0.001000 provides: \n",
      "   14515 features totaling 14515 non-zero elements \n",
      "\n",
      "Done\n"
     ]
    }
   ],
   "source": [
    "# explore maX_df\n",
    "print(\"Starting tests on max_df parameter...\\n\")\n",
    "min_df = 1\n",
    "max_df = 0.90\n",
    "vectorizer = TfidfVectorizer(min_df = min_df, max_df = max_df)\n",
    "tfidMat = vectorizer.fit_transform(docs_train)\n",
    "print(\"min_df = %d, max_df = %f provides: \\n   %d features totaling %d non-zero elements \\n\" \n",
    "          % (min_df, max_df,tfidMat.shape[1], tfidMat.size))\n",
    "\n",
    "\n",
    "min_df = 1\n",
    "max_df = 0.50\n",
    "vectorizer = TfidfVectorizer(min_df = min_df, max_df = max_df)\n",
    "tfidMat = vectorizer.fit_transform(docs_train)\n",
    "print(\"min_df = %d, max_df = %f provides: \\n   %d features totaling %d non-zero elements \\n\" \n",
    "          % (min_df, max_df,tfidMat.shape[1], tfidMat.size))\n",
    "\n",
    "\n",
    "min_df = 1\n",
    "max_df = 0.1\n",
    "vectorizer = TfidfVectorizer(min_df = min_df, max_df = max_df)\n",
    "tfidMat = vectorizer.fit_transform(docs_train)\n",
    "print(\"min_df = %d, max_df = %f provides: \\n   %d features totaling %d non-zero elements \\n\" \n",
    "          % (min_df, max_df,tfidMat.shape[1], tfidMat.size))\n",
    "\n",
    "min_df = 1\n",
    "max_df = 0.05\n",
    "vectorizer = TfidfVectorizer(min_df = min_df, max_df = max_df)\n",
    "tfidMat = vectorizer.fit_transform(docs_train)\n",
    "print(\"min_df = %d, max_df = %f provides: \\n   %d features totaling %d non-zero elements \\n\" \n",
    "          % (min_df, max_df,tfidMat.shape[1], tfidMat.size))\n",
    "\n",
    "min_df = 1\n",
    "max_df = 0.01\n",
    "vectorizer = TfidfVectorizer(min_df = min_df, max_df = max_df)\n",
    "tfidMat = vectorizer.fit_transform(docs_train)\n",
    "print(\"min_df = %d, max_df = %f provides: \\n   %d features totaling %d non-zero elements \\n\" \n",
    "          % (min_df, max_df,tfidMat.shape[1], tfidMat.size))\n",
    "\n",
    "min_df = 1\n",
    "max_df = 0.005\n",
    "vectorizer = TfidfVectorizer(min_df = min_df, max_df = max_df)\n",
    "tfidMat = vectorizer.fit_transform(docs_train)\n",
    "print(\"min_df = %d, max_df = %f provides: \\n   %d features totaling %d non-zero elements \\n\" \n",
    "          % (min_df, max_df,tfidMat.shape[1], tfidMat.size))\n",
    "\n",
    "min_df = 1\n",
    "max_df = 0.001\n",
    "vectorizer = TfidfVectorizer(min_df = min_df, max_df = max_df)\n",
    "tfidMat = vectorizer.fit_transform(docs_train)\n",
    "print(\"min_df = %d, max_df = %f provides: \\n   %d features totaling %d non-zero elements \\n\" \n",
    "          % (min_df, max_df,tfidMat.shape[1], tfidMat.size))\n",
    "\n",
    "print(\"Done\")"
   ]
  },
  {
   "cell_type": "code",
   "execution_count": 86,
   "metadata": {
    "collapsed": false,
    "scrolled": true
   },
   "outputs": [
    {
     "name": "stdout",
     "output_type": "stream",
     "text": [
      "Starting Tests on ngram_range parameter...\n",
      "Note: This may take awhile...\n",
      "\n",
      "ngram_range = (1, 1) provides: \n",
      "   35542 features totaling 500167 non-zero elements \n",
      "\n",
      "ngram_range = (1, 2) provides: \n",
      "   436474 features totaling 1371924 non-zero elements \n",
      "\n",
      "ngram_range = (1, 3) provides: \n",
      "   1200436 features totaling 2300740 non-zero elements \n",
      "\n",
      "ngram_range = (1, 4) provides: \n",
      "   2096905 features totaling 3236768 non-zero elements \n",
      "\n",
      "ngram_range = (2, 2) provides: \n",
      "   400932 features totaling 871757 non-zero elements \n",
      "\n",
      "ngram_range = (2, 3) provides: \n",
      "   1164894 features totaling 1800573 non-zero elements \n",
      "\n",
      "Done\n"
     ]
    }
   ],
   "source": [
    "# Explore the ngram_range parameter of TfidVectorizer. \n",
    "print(\"Starting Tests on ngram_range parameter...\")\n",
    "print(\"Note: This may take awhile...\\n\")\n",
    "\n",
    "ngram_range = (1,1)\n",
    "vectorizer = TfidfVectorizer(ngram_range = ngram_range)\n",
    "tfidMat = vectorizer.fit_transform(docs_train)\n",
    "print(\"ngram_range = %s provides: \\n   %d features totaling %d non-zero elements \\n\" \n",
    "      % (ngram_range, tfidMat.shape[1], tfidMat.size))\n",
    "\n",
    "ngram_range = (1,2)\n",
    "vectorizer = TfidfVectorizer(ngram_range = ngram_range)\n",
    "tfidMat = vectorizer.fit_transform(docs_train)\n",
    "print(\"ngram_range = %s provides: \\n   %d features totaling %d non-zero elements \\n\" \n",
    "      % (ngram_range, tfidMat.shape[1], tfidMat.size))\n",
    "\n",
    "ngram_range = (1,3)\n",
    "vectorizer = TfidfVectorizer(ngram_range = ngram_range)\n",
    "tfidMat = vectorizer.fit_transform(docs_train)\n",
    "print(\"ngram_range = %s provides: \\n   %d features totaling %d non-zero elements \\n\" \n",
    "      % (ngram_range, tfidMat.shape[1], tfidMat.size))\n",
    "\n",
    "ngram_range = (1,4)\n",
    "vectorizer = TfidfVectorizer(ngram_range = ngram_range)\n",
    "tfidMat = vectorizer.fit_transform(docs_train)\n",
    "print(\"ngram_range = %s provides: \\n   %d features totaling %d non-zero elements \\n\" \n",
    "      % (ngram_range, tfidMat.shape[1], tfidMat.size))\n",
    "\n",
    "ngram_range = (2,2)\n",
    "vectorizer = TfidfVectorizer(ngram_range = ngram_range)\n",
    "tfidMat = vectorizer.fit_transform(docs_train)\n",
    "print(\"ngram_range = %s provides: \\n   %d features totaling %d non-zero elements \\n\" \n",
    "      % (ngram_range, tfidMat.shape[1], tfidMat.size))\n",
    "\n",
    "ngram_range = (2,3)\n",
    "vectorizer = TfidfVectorizer(ngram_range = ngram_range)\n",
    "tfidMat = vectorizer.fit_transform(docs_train)\n",
    "print(\"ngram_range = %s provides: \\n   %d features totaling %d non-zero elements \\n\" \n",
    "      % (ngram_range, tfidMat.shape[1], tfidMat.size))\n",
    "\n",
    "print(\"Done\")"
   ]
  },
  {
   "cell_type": "code",
   "execution_count": 298,
   "metadata": {
    "collapsed": false
   },
   "outputs": [
    {
     "name": "stdout",
     "output_type": "stream",
     "text": [
      "Performing grid search...\n",
      "('pipeline:', ['vect', 'clf'])\n",
      "\n",
      "parameters:\n",
      "{'vect__ngram_range': [(1, 1), (1, 2)]}\n",
      "\n",
      "completed grid search in 48.447s\n"
     ]
    }
   ],
   "source": [
    "\"\"\" Test various paremeters for pipeline over LinearSVC\"\"\"\n",
    "\n",
    "from pprint import pprint\n",
    "from time import time\n",
    "\n",
    "# TASK: Build a vectorizer / classifier pipeline that filters out tokens\n",
    "# that are too rare or too frequent\n",
    "pipeline = Pipeline([\n",
    "    ('vect', TfidfVectorizer(min_df=4,max_df=0.7)), # how to vectorize text data\n",
    "    ('clf', LinearSVC(C=15, loss='squared_hinge')), # what algorithm to use\n",
    "])\n",
    "\n",
    "# TASK: Build a grid search to find out whether unigrams (words) or bigrams are\n",
    "# more useful. \n",
    "#    NOTE: This will take a while to run, can change n_jobs if possible\n",
    "\n",
    "# Fit the pipeline on the training set using grid search for the parameters\n",
    "parameters = {\n",
    "    'vect__ngram_range': [(1, 1), (1, 2)],\n",
    "    #'vect__max_df': (0.25, 0.5, 0.75, 1.0),\n",
    "    #'vect__min_df': (1, 3, 5, 10),\n",
    "}\n",
    "\n",
    "print(\"Performing grid search...\")\n",
    "print(\"pipeline:\", [name for name, _ in pipeline.steps])\n",
    "print\n",
    "print(\"parameters:\")\n",
    "pprint(parameters)\n",
    "t0 = time() # start timer\n",
    "\n",
    "grid_search = GridSearchCV(pipeline, parameters, n_jobs=1) # conduct grid search\n",
    "grid_search.fit(docs_train, y_train) # train the model here\n",
    "\n",
    "print\n",
    "print(\"completed grid search in %0.3fs\" % (time() - t0))"
   ]
  },
  {
   "cell_type": "code",
   "execution_count": 299,
   "metadata": {
    "collapsed": false
   },
   "outputs": [
    {
     "name": "stdout",
     "output_type": "stream",
     "text": [
      "Cross-validated Scores:\n",
      "[mean: 0.84200, std: 0.02545, params: {'vect__ngram_range': (1, 1)}, mean: 0.85000, std: 0.02341, params: {'vect__ngram_range': (1, 2)}]\n",
      "\n",
      "Best score: 0.850\n",
      "Best parameter set:\n",
      "\tvect__ngram_range: (1, 2)\n",
      "\n",
      "Classification Report:\n",
      "             precision    recall  f1-score   support\n",
      "\n",
      "        neg       0.90      0.84      0.87       255\n",
      "        pos       0.85      0.90      0.87       245\n",
      "\n",
      "avg / total       0.87      0.87      0.87       500\n",
      "\n",
      "\n",
      "Confusion Matrix:\n",
      "[[215  40]\n",
      " [ 25 220]]\n"
     ]
    }
   ],
   "source": [
    "\"\"\"Computes various evaluation data from gridsearch\"\"\"\n",
    "\n",
    "# TASK: print the cross-validated scores for the each parameters set\n",
    "# explored by the grid search\n",
    "print(\"Cross-validated Scores:\")\n",
    "print(grid_search.grid_scores_ )\n",
    "print\n",
    "\n",
    "# TASK: print best score found\n",
    "print(\"Best score: %0.3f\" % grid_search.best_score_)\n",
    "print(\"Best parameter set:\")\n",
    "best_parameters = grid_search.best_estimator_.get_params()\n",
    "\n",
    "for param_name in sorted(parameters.keys()):\n",
    "    print(\"\\t%s: %r\" % (param_name, best_parameters[param_name]))\n",
    "print\n",
    "\n",
    "# TASK: Predict the outcome on the testing set and store it in a variable\n",
    "# named y_predicted\n",
    "y_predicted = grid_search.predict(docs_test)\n",
    "\n",
    "# Print the classification report\n",
    "print(\"Classification Report:\")\n",
    "print(metrics.classification_report(y_test, y_predicted,\n",
    "                                    target_names=dataset.target_names))\n",
    "print\n",
    "\n",
    "# Print and plot the confusion matrix\n",
    "print(\"Confusion Matrix:\")\n",
    "cm = metrics.confusion_matrix(y_test, y_predicted)\n",
    "print(cm)"
   ]
  },
  {
   "cell_type": "markdown",
   "metadata": {},
   "source": [
    "*------------------------\n",
    "\n",
    "## Problem 3 (20 points): Machine learning algorithms\n"
   ]
  },
  {
   "cell_type": "markdown",
   "metadata": {},
   "source": [
    "* Based upon Problem 2 pick some parameters for TfidfVectorizer\n",
    "    * \"fit\" your TfidfVectorizer using docs_train\n",
    "    * Compute \"Xtrain\", a Tf-idf-weighted document-term matrix using the transform function on docs_train\n",
    "    * Compute \"Xtest\", a Tf-idf-weighted document-term matrix using the transform function on docs_test\n",
    "    * Note, be sure to use the same Tf-idf-weighted class (**\"fit\" using docs_train**) to transform **both** docs_test and docs_train\n",
    "* Examine two classifiers provided by scikit-learn \n",
    "    * LinearSVC\n",
    "    * KNeighborsClassifier\n",
    "    * Try a number of different parameter settings for each and judge your performance using a confusion matrix (see Problem 1 for an example).\n",
    "* Does one classifier, or one set of parameters work better?\n",
    "    * Why do you think it might be working better?\n",
    "* For a particular choice of parameters and classifier, look at 2 examples where the prediction was incorrect.\n",
    "    * Can you conjecture on why the classifier made a mistake for this prediction?"
   ]
  },
  {
   "cell_type": "markdown",
   "metadata": {},
   "source": [
    "** Note: LinearSVC is tested in Problem 2 **"
   ]
  },
  {
   "cell_type": "code",
   "execution_count": null,
   "metadata": {
    "collapsed": true
   },
   "outputs": [],
   "source": [
    "vectorizer = TfidfVectorizer()\n",
    "vectorizer = vectorizer.fit(docs_train)\n",
    "Xtrain = vectorizer.fit_transform(docs_train)\n",
    "Xtest  = vectorizer.fit_transform(docs_test)"
   ]
  },
  {
   "cell_type": "code",
   "execution_count": 176,
   "metadata": {
    "collapsed": false
   },
   "outputs": [
    {
     "name": "stdout",
     "output_type": "stream",
     "text": [
      "Performing grid search...\n",
      "('pipeline:', ['vect', 'clf'])\n",
      "\n",
      "parameters:\n",
      "{'clf__max_depth': (10, 12, 14, 15),\n",
      " 'clf__max_features': ('sqrt', 'auto'),\n",
      " 'vect__ngram_range': [(1, 1), (1, 2)]}\n",
      "\n",
      "completed grid search in 332.671s\n"
     ]
    }
   ],
   "source": [
    "\"\"\" Testing over DecisionTreeClassifier\"\"\"\n",
    "from sklearn.tree import DecisionTreeClassifier\n",
    "from pprint import pprint\n",
    "from time import time\n",
    "\n",
    "# TASK: Build a vectorizer / classifier pipeline that filters out tokens\n",
    "# that are too rare or too frequent\n",
    "pipeline = Pipeline([\n",
    "    ('vect', TfidfVectorizer(max_df=0.9,min_df=4,)), # how to vectorize text data\n",
    "    ('clf', DecisionTreeClassifier()), # what algorithm to use\n",
    "])\n",
    "\n",
    "# TASK: Build a grid search to find out whether unigrams (words) or bigrams are\n",
    "# more useful. \n",
    "#    NOTE: This will take a while to run, can change n_jobs if possible\n",
    "\n",
    "# Fit the pipeline on the training set using grid search for the parameters\n",
    "parameters = {\n",
    "    'vect__ngram_range': [(1, 1), (1, 2)],\n",
    "    #'vect__max_df': (0.5, 0.75, 1.0),\n",
    "    #'vect__min_df': (1, 3, 5, 10),\n",
    "    'clf__max_depth': (10, 12, 14, 15),\n",
    "    'clf__max_features': ('sqrt', 'auto')\n",
    "}\n",
    "\n",
    "print(\"Performing grid search...\")\n",
    "print(\"pipeline:\", [name for name, _ in pipeline.steps])\n",
    "print\n",
    "print(\"parameters:\")\n",
    "pprint(parameters)\n",
    "t0 = time() # start timer\n",
    "\n",
    "grid_search = GridSearchCV(pipeline, parameters, n_jobs=1) # conduct grid search\n",
    "grid_search.fit(docs_train, y_train) # train the model here\n",
    "\n",
    "print\n",
    "print(\"completed grid search in %0.3fs\" % (time() - t0))"
   ]
  },
  {
   "cell_type": "code",
   "execution_count": 177,
   "metadata": {
    "collapsed": false
   },
   "outputs": [
    {
     "name": "stdout",
     "output_type": "stream",
     "text": [
      "Cross-validated Scores:\n",
      "[mean: 0.56067, std: 0.03794, params: {'vect__ngram_range': (1, 1), 'clf__max_features': 'sqrt', 'clf__max_depth': 10}, mean: 0.58600, std: 0.01282, params: {'vect__ngram_range': (1, 2), 'clf__max_features': 'sqrt', 'clf__max_depth': 10}, mean: 0.58867, std: 0.01536, params: {'vect__ngram_range': (1, 1), 'clf__max_features': 'auto', 'clf__max_depth': 10}, mean: 0.58667, std: 0.00932, params: {'vect__ngram_range': (1, 2), 'clf__max_features': 'auto', 'clf__max_depth': 10}, mean: 0.58267, std: 0.02317, params: {'vect__ngram_range': (1, 1), 'clf__max_features': 'sqrt', 'clf__max_depth': 12}, mean: 0.60733, std: 0.01323, params: {'vect__ngram_range': (1, 2), 'clf__max_features': 'sqrt', 'clf__max_depth': 12}, mean: 0.60933, std: 0.02606, params: {'vect__ngram_range': (1, 1), 'clf__max_features': 'auto', 'clf__max_depth': 12}, mean: 0.56400, std: 0.01950, params: {'vect__ngram_range': (1, 2), 'clf__max_features': 'auto', 'clf__max_depth': 12}, mean: 0.62333, std: 0.01502, params: {'vect__ngram_range': (1, 1), 'clf__max_features': 'sqrt', 'clf__max_depth': 14}, mean: 0.58600, std: 0.00956, params: {'vect__ngram_range': (1, 2), 'clf__max_features': 'sqrt', 'clf__max_depth': 14}, mean: 0.59933, std: 0.04387, params: {'vect__ngram_range': (1, 1), 'clf__max_features': 'auto', 'clf__max_depth': 14}, mean: 0.60667, std: 0.01707, params: {'vect__ngram_range': (1, 2), 'clf__max_features': 'auto', 'clf__max_depth': 14}, mean: 0.55400, std: 0.02476, params: {'vect__ngram_range': (1, 1), 'clf__max_features': 'sqrt', 'clf__max_depth': 15}, mean: 0.58000, std: 0.00707, params: {'vect__ngram_range': (1, 2), 'clf__max_features': 'sqrt', 'clf__max_depth': 15}, mean: 0.57933, std: 0.01066, params: {'vect__ngram_range': (1, 1), 'clf__max_features': 'auto', 'clf__max_depth': 15}, mean: 0.58800, std: 0.02546, params: {'vect__ngram_range': (1, 2), 'clf__max_features': 'auto', 'clf__max_depth': 15}]\n",
      "\n",
      "Best score: 0.623\n",
      "Best parameter set:\n",
      "\tclf__max_depth: 14\n",
      "\tclf__max_features: 'sqrt'\n",
      "\tvect__ngram_range: (1, 1)\n",
      "\n",
      "Classification Report:\n",
      "             precision    recall  f1-score   support\n",
      "\n",
      "        neg       0.64      0.60      0.62       255\n",
      "        pos       0.61      0.64      0.62       245\n",
      "\n",
      "avg / total       0.62      0.62      0.62       500\n",
      "\n",
      "\n",
      "Confusion Matrix:\n",
      "[[152 103]\n",
      " [ 87 158]]\n"
     ]
    }
   ],
   "source": [
    "\"\"\"Computes various evaluation data from gridsearch\"\"\"\n",
    "\n",
    "# TASK: print the cross-validated scores for the each parameters set\n",
    "# explored by the grid search\n",
    "print(\"Cross-validated Scores:\")\n",
    "print(grid_search.grid_scores_ )\n",
    "print\n",
    "\n",
    "# TASK: print best score found\n",
    "print(\"Best score: %0.3f\" % grid_search.best_score_)\n",
    "print(\"Best parameter set:\")\n",
    "best_parameters = grid_search.best_estimator_.get_params()\n",
    "\n",
    "for param_name in sorted(parameters.keys()):\n",
    "    print(\"\\t%s: %r\" % (param_name, best_parameters[param_name]))\n",
    "print\n",
    "\n",
    "# TASK: Predict the outcome on the testing set and store it in a variable\n",
    "# named y_predicted\n",
    "y_predicted = grid_search.predict(docs_test)\n",
    "\n",
    "# Print the classification report\n",
    "print(\"Classification Report:\")\n",
    "print(metrics.classification_report(y_test, y_predicted,\n",
    "                                    target_names=dataset.target_names))\n",
    "print\n",
    "\n",
    "# Print and plot the confusion matrix\n",
    "print(\"Confusion Matrix:\")\n",
    "cm = metrics.confusion_matrix(y_test, y_predicted)\n",
    "print(cm)"
   ]
  },
  {
   "cell_type": "code",
   "execution_count": 180,
   "metadata": {
    "collapsed": false
   },
   "outputs": [
    {
     "name": "stdout",
     "output_type": "stream",
     "text": [
      "Performing grid search...\n",
      "('pipeline:', ['vect', 'clf'])\n",
      "\n",
      "parameters:\n",
      "{'clf__weights': ('uniform', 'distance'),\n",
      " 'vect__max_df': (0.8, 0.9, 1.0),\n",
      " 'vect__min_df': (1, 4, 8, 12),\n",
      " 'vect__ngram_range': [(1, 1), (1, 2)]}\n",
      "\n",
      "completed grid search in 871.198s\n"
     ]
    }
   ],
   "source": [
    "\"\"\" Testing over KNeighborsClassifier\"\"\"\n",
    "from sklearn.neighbors import KNeighborsClassifier\n",
    "from pprint import pprint\n",
    "from time import time\n",
    "\n",
    "# TASK: Build a vectorizer / classifier pipeline that filters out tokens\n",
    "# that are too rare or too frequent\n",
    "pipeline = Pipeline([\n",
    "    ('vect', TfidfVectorizer()), # how to vectorize text data\n",
    "    ('clf', KNeighborsClassifier(n_neighbors=9)), # what algorithm to use\n",
    "])\n",
    "\n",
    "# TASK: Build a grid search to find out whether unigrams (words) or bigrams are\n",
    "# more useful. \n",
    "#    NOTE: This will take a while to run, can change n_jobs if possible\n",
    "\n",
    "# Fit the pipeline on the training set using grid search for the parameters\n",
    "parameters = {\n",
    "    'vect__ngram_range': [(1, 1), (1, 2)],\n",
    "    'vect__max_df': (0.8, 0.9, 1.0),\n",
    "    'vect__min_df': (1, 4, 8, 12),\n",
    "    #'clf__n_neighbors': (5, 7, 9),\n",
    "    'clf__weights': ('uniform', 'distance')\n",
    "}\n",
    "\n",
    "print(\"Performing grid search...\")\n",
    "print(\"pipeline:\", [name for name, _ in pipeline.steps])\n",
    "print\n",
    "print(\"parameters:\")\n",
    "pprint(parameters)\n",
    "t0 = time() # start timer\n",
    "\n",
    "grid_search = GridSearchCV(pipeline, parameters, n_jobs=1) # conduct grid search\n",
    "grid_search.fit(docs_train, y_train) # train the model here\n",
    "\n",
    "print\n",
    "print(\"completed grid search in %0.3fs\" % (time() - t0))"
   ]
  },
  {
   "cell_type": "code",
   "execution_count": 199,
   "metadata": {
    "collapsed": true
   },
   "outputs": [
    {
     "name": "stdout",
     "output_type": "stream",
     "text": [
      "Cross-validated Scores:\n",
      "\n",
      "Best score: 0.693\n",
      "Best parameter set:\n",
      "\tclf__weights: 'distance'\n",
      "\tvect__max_df: 0.8\n",
      "\tvect__min_df: 4\n",
      "\tvect__ngram_range: (1, 1)\n",
      "\n",
      "Classification Report:\n",
      "             precision    recall  f1-score   support\n",
      "\n",
      "        neg       0.68      0.65      0.67       255\n",
      "        pos       0.65      0.69      0.67       245\n",
      "\n",
      "avg / total       0.67      0.67      0.67       500\n",
      "\n",
      "\n",
      "Confusion Matrix:\n",
      "[[166  89]\n",
      " [ 77 168]]\n"
     ]
    }
   ],
   "source": [
    "\"\"\"Computes various evaluation data from gridsearch\"\"\"\n",
    "\n",
    "# TASK: print the cross-validated scores for the each parameters set\n",
    "# explored by the grid search\n",
    "print(\"Cross-validated Scores:\")\n",
    "#print(grid_search.grid_scores_ )\n",
    "print\n",
    "\n",
    "# TASK: print best score found\n",
    "print(\"Best score: %0.3f\" % grid_search.best_score_)\n",
    "print(\"Best parameter set:\")\n",
    "best_parameters = grid_search.best_estimator_.get_params()\n",
    "\n",
    "for param_name in sorted(parameters.keys()):\n",
    "    print(\"\\t%s: %r\" % (param_name, best_parameters[param_name]))\n",
    "print\n",
    "\n",
    "# TASK: Predict the outcome on the testing set and store it in a variable\n",
    "# named y_predicted\n",
    "y_predicted = grid_search.predict(docs_test)\n",
    "\n",
    "# Print the classification report\n",
    "print(\"Classification Report:\")\n",
    "print(metrics.classification_report(y_test, y_predicted,\n",
    "                                    target_names=dataset.target_names))\n",
    "print\n",
    "\n",
    "# Print and plot the confusion matrix\n",
    "print(\"Confusion Matrix:\")\n",
    "cm = metrics.confusion_matrix(y_test, y_predicted)\n",
    "print(cm)\n"
   ]
  },
  {
   "cell_type": "code",
   "execution_count": 295,
   "metadata": {
    "collapsed": true
   },
   "outputs": [
    {
     "name": "stdout",
     "output_type": "stream",
     "text": [
      "Performing grid search...\n",
      "('pipeline:', ['vect', 'clf'])\n",
      "\n",
      "parameters:\n",
      "{'clf__alpha': (0.001, 1.0)}\n",
      "\n",
      "completed grid search in 17.609s\n"
     ]
    }
   ],
   "source": [
    "\"\"\" Testing over Lasso\"\"\"\n",
    "from sklearn.linear_model import Lasso\n",
    "from pprint import pprint\n",
    "from time import time\n",
    "\n",
    "# TASK: Build a vectorizer / classifier pipeline that filters out tokens\n",
    "# that are too rare or too frequent\n",
    "pipeline = Pipeline([\n",
    "    ('vect', TfidfVectorizer(min_df = 30, max_df = 0.6, ngram_range = (1,1))), # how to vectorize text data\n",
    "    ('clf', Lasso()), # what algorithm to use\n",
    "])\n",
    "\n",
    "# TASK: Build a grid search to find out whether unigrams (words) or bigrams are\n",
    "# more useful. \n",
    "#    NOTE: This will take a while to run, can change n_jobs if possible\n",
    "\n",
    "# Fit the pipeline on the training set using grid search for the parameters\n",
    "parameters = {\n",
    "    #'vect__ngram_range': [(1, 1), (1, 2)],\n",
    "    #'vect__max_df': (0.5, 0.75, 1.0),\n",
    "    #'vect__min_df': (1, 3, 5, 10),\n",
    "    'clf__alpha': (0.001, 1.0)\n",
    "}\n",
    "\n",
    "print(\"Performing grid search...\")\n",
    "print(\"pipeline:\", [name for name, _ in pipeline.steps])\n",
    "print\n",
    "print(\"parameters:\")\n",
    "pprint(parameters)\n",
    "t0 = time() # start timer\n",
    "\n",
    "grid_search = GridSearchCV(pipeline, parameters, n_jobs=1) # conduct grid search\n",
    "grid_search.fit(docs_train, y_train) # train the model here\n",
    "\n",
    "print\n",
    "print(\"completed grid search in %0.3fs\" % (time() - t0))"
   ]
  },
  {
   "cell_type": "code",
   "execution_count": 296,
   "metadata": {
    "collapsed": true
   },
   "outputs": [
    {
     "name": "stdout",
     "output_type": "stream",
     "text": [
      "Cross-validated Scores:\n",
      "[mean: 0.27449, std: 0.01048, params: {'clf__alpha': 0.001}, mean: -0.00241, std: 0.00171, params: {'clf__alpha': 1.0}]\n",
      "\n",
      "Best score: 0.274\n",
      "Best parameter set:\n",
      "\tclf__alpha: 0.001\n",
      "\n",
      "Classification Report:\n",
      "             precision    recall  f1-score   support\n",
      "\n",
      "        neg       0.76      0.60      0.67       255\n",
      "        pos       0.66      0.80      0.73       245\n",
      "\n",
      "avg / total       0.71      0.70      0.70       500\n",
      "\n",
      "\n",
      "Confusion Matrix:\n",
      "[[154 101]\n",
      " [ 48 197]]\n"
     ]
    }
   ],
   "source": [
    "\"\"\"Computes various evaluation data from gridsearch\"\"\"\n",
    "import numpy\n",
    "\n",
    "# TASK: print the cross-validated scores for the each parameters set\n",
    "# explored by the grid search\n",
    "print(\"Cross-validated Scores:\")\n",
    "print(grid_search.grid_scores_ )\n",
    "print\n",
    "\n",
    "# TASK: print best score found\n",
    "print(\"Best score: %0.3f\" % grid_search.best_score_)\n",
    "print(\"Best parameter set:\")\n",
    "best_parameters = grid_search.best_estimator_.get_params()\n",
    "\n",
    "for param_name in sorted(parameters.keys()):\n",
    "    print(\"\\t%s: %r\" % (param_name, best_parameters[param_name]))\n",
    "print\n",
    "\n",
    "# TASK: Predict the outcome on the testing set and store it in a variable\n",
    "# named y_predicted\n",
    "y_predicted = numpy.rint(grid_search.predict(docs_test))\n",
    "\n",
    "\n",
    "# Print the classification report\n",
    "print(\"Classification Report:\")\n",
    "print(metrics.classification_report(y_test, y_predicted,\n",
    "                                    target_names=dataset.target_names))\n",
    "print\n",
    "\n",
    "# Print and plot the confusion matrix\n",
    "print(\"Confusion Matrix:\")\n",
    "cm = metrics.confusion_matrix(y_test, y_predicted)\n",
    "print(cm)"
   ]
  },
  {
   "cell_type": "code",
   "execution_count": 303,
   "metadata": {
    "collapsed": false
   },
   "outputs": [
    {
     "name": "stdout",
     "output_type": "stream",
     "text": [
      "Performing grid search...\n",
      "('pipeline:', ['vect', 'clf'])\n",
      "\n",
      "parameters:\n",
      "{'clf__C': (0.001, 0.0001), 'clf__degree': (1, 2, 3)}\n",
      "\n",
      "completed grid search in 416.856s\n"
     ]
    }
   ],
   "source": [
    "\"\"\" Testing over SVC\"\"\"\n",
    "from sklearn.svm import SVC\n",
    "from pprint import pprint\n",
    "from time import time\n",
    "\n",
    "# TASK: Build a vectorizer / classifier pipeline that filters out tokens\n",
    "# that are too rare or too frequent\n",
    "pipeline = Pipeline([\n",
    "    ('vect', TfidfVectorizer(min_df = 4, max_df = 0.7, ngram_range=(1,2))), # how to vectorize text data\n",
    "    ('clf', SVC(kernel='poly')), # what algorithm to use\n",
    "])\n",
    "\n",
    "# TASK: Build a grid search to find out whether unigrams (words) or bigrams are\n",
    "# more useful. \n",
    "#    NOTE: This will take a while to run, can change n_jobs if possible\n",
    "\n",
    "# Fit the pipeline on the training set using grid search for the parameters\n",
    "parameters = {\n",
    "    #'vect__ngram_range': [(1, 1), (1, 2)],\n",
    "    #'vect__max_df': (0.8, 0.9, 1.0),\n",
    "    #'vect__min_df': (1, 4, 8, 12),\n",
    "    'clf__C': (0.001, 0.0001),\n",
    "    'clf__degree': (1, 2, 3)\n",
    "}\n",
    "\n",
    "print(\"Performing grid search...\")\n",
    "print(\"pipeline:\", [name for name, _ in pipeline.steps])\n",
    "print\n",
    "print(\"parameters:\")\n",
    "pprint(parameters)\n",
    "t0 = time() # start timer\n",
    "\n",
    "grid_search = GridSearchCV(pipeline, parameters, n_jobs=1) # conduct grid search\n",
    "grid_search.fit(docs_train, y_train) # train the model here\n",
    "\n",
    "print\n",
    "print(\"completed grid search in %0.3fs\" % (time() - t0))"
   ]
  },
  {
   "cell_type": "code",
   "execution_count": 322,
   "metadata": {
    "collapsed": false
   },
   "outputs": [
    {
     "name": "stdout",
     "output_type": "stream",
     "text": [
      "Cross-validated Scores:\n",
      "[mean: 0.50333, std: 0.00047, params: {'clf__degree': 1, 'clf__C': 0.001}, mean: 0.50333, std: 0.00047, params: {'clf__degree': 2, 'clf__C': 0.001}, mean: 0.50333, std: 0.00047, params: {'clf__degree': 3, 'clf__C': 0.001}, mean: 0.50333, std: 0.00047, params: {'clf__degree': 1, 'clf__C': 0.0001}, mean: 0.50333, std: 0.00047, params: {'clf__degree': 2, 'clf__C': 0.0001}, mean: 0.50333, std: 0.00047, params: {'clf__degree': 3, 'clf__C': 0.0001}]\n",
      "\n",
      "Best score: 0.503\n",
      "Best parameter set:\n",
      "\tclf__C: 0.001\n",
      "\tclf__degree: 1\n",
      "\n",
      "Classification Report:\n",
      "             precision    recall  f1-score   support\n",
      "\n",
      "        neg       0.00      0.00      0.00       255\n",
      "        pos       0.49      1.00      0.66       245\n",
      "\n",
      "avg / total       0.24      0.49      0.32       500\n",
      "\n",
      "\n",
      "Confusion Matrix:\n",
      "[[  0 255]\n",
      " [  0 245]]\n"
     ]
    }
   ],
   "source": [
    "\"\"\"Computes various evaluation data from gridsearch\"\"\"\n",
    "import numpy\n",
    "\n",
    "# TASK: print the cross-validated scores for the each parameters set\n",
    "# explored by the grid search\n",
    "print(\"Cross-validated Scores:\")\n",
    "print(grid_search.grid_scores_ )\n",
    "print\n",
    "\n",
    "# TASK: print best score found\n",
    "print(\"Best score: %0.3f\" % grid_search.best_score_)\n",
    "print(\"Best parameter set:\")\n",
    "best_parameters = grid_search.best_estimator_.get_params()\n",
    "\n",
    "for param_name in sorted(parameters.keys()):\n",
    "    print(\"\\t%s: %r\" % (param_name, best_parameters[param_name]))\n",
    "print\n",
    "\n",
    "# TASK: Predict the outcome on the testing set and store it in a variable\n",
    "# named y_predicted\n",
    "y_predicted = numpy.rint(grid_search.predict(docs_test))\n",
    "\n",
    "\n",
    "# Print the classification report\n",
    "print(\"Classification Report:\")\n",
    "print(metrics.classification_report(y_test, y_predicted,\n",
    "                                    target_names=dataset.target_names))\n",
    "print\n",
    "\n",
    "# Print and plot the confusion matrix\n",
    "print(\"Confusion Matrix:\")\n",
    "cm = metrics.confusion_matrix(y_test, y_predicted)\n",
    "print(cm)"
   ]
  },
  {
   "cell_type": "markdown",
   "metadata": {},
   "source": [
    "*------------------------\n",
    "\n",
    "## Problem 4 (20 points): Open Ended Question:  Finding the right plot"
   ]
  },
  {
   "cell_type": "markdown",
   "metadata": {},
   "source": [
    "* Can you find a two dimensional plot in which the positive and negative reviews are separated?\n",
    "    * This problem is hard since you will likely have thousands of features for review, and you will need to transform these thousands of features into just two numbers (so that you can make a 2D plot).\n",
    "* Note, I was not able to find such a plot myself!\n",
    "    * So, this problem is about **trying** but perhaps **not necessarily succeeding**!\n",
    "* I tried two things, neither of which worked very well.\n",
    "    * I first plotted the length of the review versus the number of features we compute that are in that review\n",
    "    * Second I used Principle Component Analysis on a subset of the features.\n",
    "* Can you do better than I did!?"
   ]
  },
  {
   "cell_type": "code",
   "execution_count": 273,
   "metadata": {
    "collapsed": false
   },
   "outputs": [
    {
     "name": "stdout",
     "output_type": "stream",
     "text": [
      "Done\n"
     ]
    }
   ],
   "source": [
    "# Obtain vocabulary from all training documents\n",
    "trainDocs = load_files(\"training_docs\", shuffle = False)\n",
    "vectorizer = TfidfVectorizer(min_df = 4, max_df = 0.7, \n",
    "                             ngram_range = (1,2))\n",
    "vectorizer = vectorizer.fit(trainDocs.data)\n",
    "vocabulary = (vectorizer.get_feature_names()) \n",
    "print(\"Done\")"
   ]
  },
  {
   "cell_type": "code",
   "execution_count": 274,
   "metadata": {
    "collapsed": true
   },
   "outputs": [
    {
     "name": "stdout",
     "output_type": "stream",
     "text": [
      "number of total samples p:    750\n",
      "number of total samples n:    750\n",
      "(750, 45139)\n",
      "(750, 45139)\n",
      "Done\n"
     ]
    }
   ],
   "source": [
    "# load pos and neg training reviews\n",
    "posDocs = load_files(\"pos\", shuffle=False)\n",
    "negDocs = load_files(\"neg\", shuffle=False)\n",
    "                 \n",
    "print(\"number of total samples p:    %d\" % len(posDocs.data))\n",
    "print(\"number of total samples n:    %d\" % len(negDocs.data))\n",
    "\n",
    "# make vectorizer using previously created vocabulary\n",
    "vectorizer = TfidfVectorizer(min_df = 4, max_df = 0.7, \n",
    "                             ngram_range = (1,2), vocabulary=vocabulary)\n",
    "# fit each vectorizer\n",
    "pvectorizer = vectorizer.fit(posDocs.data)\n",
    "nvectorizer = vectorizer.fit(negDocs.data)\n",
    "\n",
    "# create tf-idf weighted document term matrices for pos and neg\n",
    "ptrain = pvectorizer.fit_transform(posDocs.data)\n",
    "ntrain = nvectorizer.fit_transform(negDocs.data)\n",
    "\n",
    "print ptrain.shape\n",
    "print ntrain.shape\n",
    "\n",
    "print(\"Done\")"
   ]
  },
  {
   "cell_type": "code",
   "execution_count": 275,
   "metadata": {
    "collapsed": true
   },
   "outputs": [
    {
     "name": "stdout",
     "output_type": "stream",
     "text": [
      "[[  1.34217498e-04   1.62400532e-03   5.76710225e-05 ...,   0.00000000e+00\n",
      "    2.02126887e-04   6.54800684e-04]]\n",
      "[[  3.00896460e-04   1.50710760e-03   2.35559445e-04 ...,   3.61780386e-04\n",
      "    5.11613632e-04   8.97126633e-05]]\n",
      "438102\n",
      "402490\n"
     ]
    }
   ],
   "source": [
    "# find average of tf-idf amongst all documents for each feature\n",
    "parray = ptrain.mean(0)\n",
    "narray = ntrain.mean(0)\n",
    "\n",
    "print parray\n",
    "print narray"
   ]
  },
  {
   "cell_type": "code",
   "execution_count": 278,
   "metadata": {
    "collapsed": true
   },
   "outputs": [
    {
     "name": "stdout",
     "output_type": "stream",
     "text": [
      "(500L, 45139L)\n",
      "[0 0 0 0 0 0 0 0 0 0 0 0 0 0 0 0 0 0 0 0 0 0 0 0 0 0 0 0 0 0 0 0 0 0 0 0 0\n",
      " 0 0 0 0 0 0 0 0 0 0 0 0 0 0 0 0 0 0 0 0 0 0 0 0 0 0 0 0 0 0 0 0 0 0 0 0 0\n",
      " 0 0 0 0 0 0 0 0 0 0 0 0 0 0 0 0 0 0 0 0 0 0 0 0 0 0 0 0 0 0 0 0 0 0 0 0 0\n",
      " 0 0 0 0 0 0 0 0 0 0 0 0 0 0 0 0 0 0 0 0 0 0 0 0 0 0 0 0 0 0 0 0 0 0 0 0 0\n",
      " 0 0 0 0 0 0 0 0 0 0 0 0 0 0 0 0 0 0 0 0 0 0 0 0 0 0 0 0 0 0 0 0 0 0 0 0 0\n",
      " 0 0 0 0 0 0 0 0 0 0 0 0 0 0 0 0 0 0 0 0 0 0 0 0 0 0 0 0 0 0 0 0 0 0 0 0 0\n",
      " 0 0 0 0 0 0 0 0 0 0 0 0 0 0 0 0 0 0 0 0 0 0 0 0 0 0 0 0 1 1 1 1 1 1 1 1 1\n",
      " 1 1 1 1 1 1 1 1 1 1 1 1 1 1 1 1 1 1 1 1 1 1 1 1 1 1 1 1 1 1 1 1 1 1 1 1 1\n",
      " 1 1 1 1 1 1 1 1 1 1 1 1 1 1 1 1 1 1 1 1 1 1 1 1 1 1 1 1 1 1 1 1 1 1 1 1 1\n",
      " 1 1 1 1 1 1 1 1 1 1 1 1 1 1 1 1 1 1 1 1 1 1 1 1 1 1 1 1 1 1 1 1 1 1 1 1 1\n",
      " 1 1 1 1 1 1 1 1 1 1 1 1 1 1 1 1 1 1 1 1 1 1 1 1 1 1 1 1 1 1 1 1 1 1 1 1 1\n",
      " 1 1 1 1 1 1 1 1 1 1 1 1 1 1 1 1 1 1 1 1 1 1 1 1 1 1 1 1 1 1 1 1 1 1 1 1 1\n",
      " 1 1 1 1 1 1 1 1 1 1 1 1 1 1 1 1 1 1 1 1 1 1 1 1 1 1 1 1 1 1 1 1 1 1 1 1 1\n",
      " 1 1 1 1 1 1 1 1 1 1 1 1 1 1 1 1 1 1 1]\n"
     ]
    }
   ],
   "source": [
    "# load the test documents (mixed pos and neg)\n",
    "testDocs = load_files(\"docs_for_testing\", shuffle=False)\n",
    "\n",
    "# create vectorizer, fit, and create tf-idf matrix for testing\n",
    "dvectorizer = vectorizer.fit(testDocs.data)\n",
    "dtrain = dvectorizer.fit_transform(testDocs.data)\n",
    "dtrain = dtrain.todense()\n",
    "print dtrain.shape"
   ]
  },
  {
   "cell_type": "code",
   "execution_count": 277,
   "metadata": {
    "collapsed": true
   },
   "outputs": [
    {
     "name": "stdout",
     "output_type": "stream",
     "text": [
      "(500L, 45139L)\n",
      "(500L, 45139L)\n"
     ]
    }
   ],
   "source": [
    "# use document features as scalars of elem-wise mult of new features\n",
    "pmatrix = numpy.multiply(parray, dtrain)\n",
    "nmatrix = numpy.multiply(narray, dtrain)\n",
    "\n",
    "print pmatrix.shape\n",
    "print nmatrix.shape\n",
    "\n",
    "# sum new feature values to create positivity and negativity scales\n",
    "pvec = numpy.sum(pmatrix, axis=1) # positivity\n",
    "nvec = numpy.sum(nmatrix, axis=1) # negativity\n"
   ]
  },
  {
   "cell_type": "code",
   "execution_count": 280,
   "metadata": {
    "collapsed": true
   },
   "outputs": [
    {
     "name": "stdout",
     "output_type": "stream",
     "text": [
      "(500L, 1L)\n",
      "(500L, 1L)\n",
      "(500L,)\n"
     ]
    }
   ],
   "source": [
    "print pvec.shape\n",
    "print nvec.shape\n",
    "print testDocs.target.shape"
   ]
  },
  {
   "cell_type": "code",
   "execution_count": 281,
   "metadata": {
    "collapsed": true
   },
   "outputs": [],
   "source": [
    "%matplotlib inline\n",
    "from matplotlib import pyplot as plt\n",
    "import matplotlib.pylab as py"
   ]
  },
  {
   "cell_type": "code",
   "execution_count": 321,
   "metadata": {
    "collapsed": false,
    "scrolled": false
   },
   "outputs": [
    {
     "data": {
      "text/plain": [
       "(0, 1)"
      ]
     },
     "execution_count": 321,
     "metadata": {},
     "output_type": "execute_result"
    },
    {
     "data": {
      "image/png": "[encoded data removed]",
      "text/plain": [
       "<matplotlib.figure.Figure at 0x49d28048>"
      ]
     },
     "metadata": {},
     "output_type": "display_data"
    }
   ],
   "source": [
    "# plot full of testing docs (note: scale axis to 0-1)\n",
    "plt.figure(figsize=(10,10))\n",
    "\n",
    "plt.scatter(pvec*(100/8), nvec*(100/8), 20, c=[testDocs.target], cmap = 'autumn')\n",
    "plt.xlabel('Positivity')\n",
    "plt.ylabel('Negativity')\n",
    "plt.xlim(0,1)\n",
    "plt.ylim(0,1)"
   ]
  },
  {
   "cell_type": "code",
   "execution_count": 320,
   "metadata": {
    "collapsed": false
   },
   "outputs": [
    {
     "data": {
      "text/plain": [
       "(0.2, 0.8)"
      ]
     },
     "execution_count": 320,
     "metadata": {},
     "output_type": "execute_result"
    },
    {
     "data": {
      "image/png": "[encoded data removed]",
      "text/plain": [
       "<matplotlib.figure.Figure at 0x22452668>"
      ]
     },
     "metadata": {},
     "output_type": "display_data"
    }
   ],
   "source": [
    "# plot zoom of testing docs (note: scale axis to 0-1)\n",
    "plt.figure(figsize=(10,10))\n",
    "\n",
    "plt.scatter(pvec*(100/8), nvec*(100/8), 20, c=[testDocs.target], cmap = 'autumn')\n",
    "plt.xlabel('Positivity')\n",
    "plt.ylabel('Negativity')\n",
    "plt.xlim(0.2,.8)\n",
    "plt.ylim(0.2,.8)"
   ]
  },
  {
   "cell_type": "code",
   "execution_count": 319,
   "metadata": {
    "collapsed": false
   },
   "outputs": [
    {
     "data": {
      "text/plain": [
       "(0.3, 0.7)"
      ]
     },
     "execution_count": 319,
     "metadata": {},
     "output_type": "execute_result"
    },
    {
     "data": {
      "image/png": "[encoded data removed]",
      "text/plain": [
       "<matplotlib.figure.Figure at 0x42db1320>"
      ]
     },
     "metadata": {},
     "output_type": "display_data"
    }
   ],
   "source": [
    "# plot zoom-zoom of testing docs (note: scale axis to 0-1)\n",
    "plt.figure(figsize=(10,10))\n",
    "\n",
    "plt.scatter(pvec*(100/8), nvec*(100/8), 40, c=[testDocs.target], cmap = 'autumn')\n",
    "plt.xlabel('Positivity')\n",
    "plt.ylabel('Negativity')\n",
    "plt.color = ['red', 'yellow']\n",
    "plt.xlim(0.3,0.7)\n",
    "plt.ylim(0.3,0.7)"
   ]
  },
  {
   "cell_type": "markdown",
   "metadata": {},
   "source": [
    "# Report: communicate the results (20 points)\n",
    "\n",
    "(1) (5 points) What data you collected?\n",
    "\n",
    "(2) (5 points) Why this topic is interesting or important to you? (Motivations)\n",
    "\n",
    "(3) (5 points) How did you analyse the data?\n",
    "\n",
    "(4) (5 points) What did you find in the data?\n",
    "(please include figures or tables in the report, but no source code)"
   ]
  },
  {
   "cell_type": "markdown",
   "metadata": {},
   "source": [
    "# Slides (for 10 minutes of presentation) (20 points)\n",
    "\n",
    "\n",
    "1. (5 points) Motivation about the data collection, why the topic is interesting to you. \n",
    "\n",
    "2. (10 points) Communicating Results (figure/table)\n",
    "\n",
    "3. (5 points) Story telling (How all the parts (data, analysis, result) fit together as a story?)"
   ]
  },
  {
   "cell_type": "markdown",
   "metadata": {},
   "source": [
    "*-----------------\n",
    "# Done\n",
    "\n",
    "All set! \n",
    "\n",
    "** What do you need to submit?**\n",
    "\n",
    "* **Notebook File**: Save this IPython notebook, and find the notebook file in your folder (for example, \"filename.ipynb\"). This is the file you need to submit. Please make sure all the plotted tables and figures are in the notebook. If you used \"ipython notebook --pylab=inline\" to open the notebook, all the figures and tables should have shown up in the notebook.\n",
    "\n",
    "\n",
    "* **PPT Slides**: please prepare PPT slides (for 10 minutes' talk) to present about the case study . We will ask two teams which are randomly selected to present their case studies in class for this case study. \n",
    "\n",
    "* ** Report**: please prepare a report (less than 10 pages) to report what you found in the data.\n",
    "    * What is the relationship between this topic and Business Intelligence?\n",
    "    * How did you analyse the data?\n",
    "    * What did you find in the data? \n",
    "    * What conjectures did you make and how did you support or disprove them using data?\n",
    "    * Did you find anything suprising in the data?\n",
    "    * What business decision do you think this data could help answer?  Why?\n",
    "\n",
    "     (please include figures or tables in the report, but no source code)\n",
    "\n",
    "*Please compress all the files into a single zipped file.*\n",
    "\n",
    "\n",
    "** How to submit: **\n",
    "\n",
    "        Send an email to rcpaffenroth@wpi.edu with the subject: \"[DS501] Case study 3\"."
   ]
  }
 ],
 "metadata": {
  "kernelspec": {
   "display_name": "Python 2",
   "language": "python",
   "name": "python2"
  },
  "language_info": {
   "codemirror_mode": {
    "name": "ipython",
    "version": 2
   },
   "file_extension": ".py",
   "mimetype": "text/x-python",
   "name": "python",
   "nbconvert_exporter": "python",
   "pygments_lexer": "ipython2",
   "version": "2.7.10"
  }
 },
 "nbformat": 4,
 "nbformat_minor": 0
}
