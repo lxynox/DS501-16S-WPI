{
 "cells": [
  {
   "cell_type": "markdown",
   "metadata": {},
   "source": [
    "#Case Study 1 : Collecting Data from Twitter\n",
    "\n",
    "** Due Date: February 10, before the class**\n",
    "\n",
    "*------------"
   ]
  },
  {
   "cell_type": "markdown",
   "metadata": {},
   "source": [
    "**TEAM Members:** Please EDIT this cell and add the names of all the team members in your team\n",
    "\n",
    "    Branden Diniz\n",
    "    \n",
    "    Xuanyu Li\n",
    "    \n",
    "    Dennis Silva\n",
    "    \n",
    "    Chuxin Wei"
   ]
  },
  {
   "cell_type": "markdown",
   "metadata": {},
   "source": [
    "**Required Readings:** \n",
    "* Chapter 1 and Chapter 9 of the book [Mining the Social Web](http://www.learndatasci.com/wp-content/uploads/2015/08/Mining-the-Social-Web-2nd-Edition.pdf) \n",
    "* The codes for [Chapter 1](http://bit.ly/1qCtMrr) and [Chapter 9](http://bit.ly/1u7eP33)\n",
    "\n",
    "\n",
    "** NOTE **\n",
    "* Please don't forget to save the notebook frequently when working in IPython Notebook, otherwise the changes you made can be lost.\n",
    "\n",
    "*----------------------"
   ]
  },
  {
   "cell_type": "markdown",
   "metadata": {},
   "source": [
    "#Problem 1: Sampling Twitter Data with Streaming API about a certain topic"
   ]
  },
  {
   "cell_type": "markdown",
   "metadata": {},
   "source": [
    "* Select a topic that you are interested in, for example, \"WPI\" or \"Lady Gaga\"\n",
    "* Use Twitter Streaming API to sample a collection of tweets about this topic in real time. (It would be recommended that the number of tweets should be larger than 200, but smaller than 1 million.\n",
    "* Store the tweets you downloaded into a local file (txt file or json file) "
   ]
  },
  {
   "cell_type": "markdown",
   "metadata": {},
   "source": [
    "NOTES Before Running:\n",
    "    *Need basic canopy packages (install all canopy packages before continuing)\n",
    "        Additionally install prettytable 0.7.x package to use pretty table\n",
    "        Additionally install nltk 3.1 package to utilize the Natural Language Toolkit\n",
    "    *The notebook is structured to run each cell in order except for the cell containing \"twitter_streaming_search.\"\n",
    "        The first cell for Question 2 contains a line for \"filename.\" This is the filename of a text file containing tweets\n",
    "        in the form of json that will be analyzed by all following cells."
   ]
  },
  {
   "cell_type": "code",
   "execution_count": 2,
   "metadata": {
    "collapsed": true
   },
   "outputs": [],
   "source": [
    "\"\"\"\n",
    "Run this cell to acquire twitter login credentials (twitter_api) for future cells.\n",
    "    Change each key to your own to minimize rate limiting.\n",
    "\"\"\"\n",
    "import twitter\n",
    "from urllib import unquote\n",
    "import json\n",
    "import math\n",
    "#---------------------------------------------\n",
    "# Define a Function to Login Twitter API\n",
    "def oauth_login():\n",
    "    # Go to http://twitter.com/apps/new to create an app and get values\n",
    "    # for these credentials that you'll need to provide in place of these\n",
    "    # empty string values that are defined as placeholders.\n",
    "    # See https://dev.twitter.com/docs/auth/oauth for more information \n",
    "    # on Twitter's OAuth implementation.\n",
    "    \n",
    "    CONSUMER_KEY = '1Y71E7ltFJjaouxc04YAdYcFG'\n",
    "    CONSUMER_SECRET ='KO9VifpzCanKjlfCzX2KGpjheCkPYzhzygKLQvbPmm0r88qGwr'\n",
    "    OAUTH_TOKEN = '467864818-LAMaMeV50N8opXd18InibfDmxJ3QQiu1j2N0SS4E'\n",
    "    OAUTH_TOKEN_SECRET = '7MOHEBrgdCQAjVAWbLEhNV6FoD98TdzinmAFMaleBoz0N'\n",
    "    \n",
    "    auth = twitter.oauth.OAuth(OAUTH_TOKEN, OAUTH_TOKEN_SECRET,\n",
    "                               CONSUMER_KEY, CONSUMER_SECRET)\n",
    "    \n",
    "    twitter_api = twitter.Twitter(auth=auth)\n",
    "    return twitter_api\n",
    "\n",
    "twitter_api = oauth_login"
   ]
  },
  {
   "cell_type": "code",
   "execution_count": 6,
   "metadata": {
    "collapsed": false
   },
   "outputs": [
    {
     "name": "stdout",
     "output_type": "stream",
     "text": [
      "Amount of tweets collected: 1000\n"
     ]
    }
   ],
   "source": [
    "import twitter\n",
    "from urllib import unquote\n",
    "import json, sys\n",
    "\n",
    "\"\"\"\n",
    "Use twitter streaming api to search for tweets through Streaming API instead of the RESTful api to gather data\n",
    "in real-time and limit the # of tweets to certain amount.\n",
    "\n",
    "twitter_api:  oauth_login authentication\n",
    "q:  hot topic name \n",
    "max_results: max number of tweets to collect (you may not collect max_results every time)\n",
    "\"\"\"\n",
    "def twitter_streaming_search(twitter_api, q, max_results):\n",
    "    \n",
    "    # Reference the self.auth parameter\n",
    "    twitter_stream = twitter.TwitterStream(auth=twitter_api.auth)\n",
    "\n",
    "    # See https://dev.twitter.com/docs/streaming-apis\n",
    "    stream = twitter_stream.statuses.filter(track=q)\n",
    "\n",
    "     # set the maximum searching results first [200, 100,0000]\n",
    "    tweets = [] # searching results\n",
    "    for tweet in stream:\n",
    "        # check if the tweet is an empty tweet\n",
    "        if 'text' in tweet:\n",
    "            tweets.append(tweet)\n",
    "            \n",
    "        if len(tweets) >= max_results:\n",
    "            break;\n",
    "\n",
    "    return tweets\n",
    "\n",
    "# save the data returned by twitter_streaming_search into json file\n",
    "def save_json(filename, data):\n",
    "    with open(filename, 'w') as f:\n",
    "        f.write(unicode(json.dumps(data, indent=1)))\n",
    "\n",
    "\n",
    "\"\"\"\n",
    "Obtain authorization to twitter api and search for hot topic\n",
    "\"\"\"\n",
    "twitter_api = oauth_login()\n",
    "q = 'Pokemon'\n",
    "max_results = 1000\n",
    "    \n",
    "data = twitter_streaming_search(twitter_api, q)\n",
    "save_json(\"Pokemon.json\", data)\n",
    "print \"Amount of tweets collected: %d\" %len(data) # prints actual number of tweets collected incase rate limited\n"
   ]
  },
  {
   "cell_type": "markdown",
   "metadata": {},
   "source": [
    "###Report some statistics about the tweets you collected \n",
    "\n",
    "*The topic of interest: Pokemon (results collected during Super Bowl 50)\n",
    "\n",
    "\n",
    "*The total number of tweets collected: 13,164"
   ]
  },
  {
   "cell_type": "markdown",
   "metadata": {},
   "source": [
    "*-----------------------"
   ]
  },
  {
   "cell_type": "markdown",
   "metadata": {},
   "source": [
    "#Problem 2: Analyzing Tweets and Tweet Entities with Frequency Analysis\n",
    "\n",
    "**1. Word Count:** \n",
    "* Use the tweets you collected in Problem 1, and compute the frequencies of the words being used in these tweets. \n",
    "* Plot a table of the top 30 words with their counts"
   ]
  },
  {
   "cell_type": "code",
   "execution_count": 28,
   "metadata": {
    "collapsed": false
   },
   "outputs": [
    {
     "name": "stdout",
     "output_type": "stream",
     "text": [
      "[nltk_data] Downloading package stopwords to\n",
      "[nltk_data]     C:\\Users\\owner\\AppData\\Roaming\\nltk_data...\n",
      "[nltk_data]   Package stopwords is already up-to-date!\n",
      "\n",
      "Sample text (tweets): \n",
      "[\n",
      " \"@Pokemon That commercial made me even more excited to be apart of the #Pokemon20 celebration \\ud83c\\udf89 #SB50\", \n",
      " \"#Pokemon20: Pok\\u00e9mon Super Bowl Commercial https://t.co/sLXdBqXmEC v\\u00eda @YouTube\", \n",
      " \"RT @Pokemon: Trainers unite! Vote for our #Pokemon20 Super Bowl spot in this year's YouTube Ad Blitz: https://t.co/zy7eFGSUJe https://t.co/\\u2026\", \n",
      " \"RT @DerekSikkink: One thing I took away from the Super Bowl: Pokemon. The world needs Pokemon. Not the new one, but the old one. Where grea\\u2026\", \n",
      " \"RT @sarahpodz: Ok the Pokemon commercial just aired so we can all stop watching the Super Bowl now. #Pokemon20\"\n",
      "]\n",
      "\n",
      "Sample screen names: \n",
      "[\n",
      " \"Pokemon\", \n",
      " \"YouTube\", \n",
      " \"Pokemon\", \n",
      " \"DerekSikkink\", \n",
      " \"sarahpodz\"\n",
      "]\n",
      "\n",
      "Sample hashtags: \n",
      "[\n",
      " \"Pokemon20\", \n",
      " \"SB50\", \n",
      " \"Pokemon20\", \n",
      " \"Pokemon20\", \n",
      " \"Pokemon20\"\n",
      "]\n",
      "\n",
      "Sample words: \n",
      "[\n",
      " \"@Pokemon\", \n",
      " \"That\", \n",
      " \"commercial\", \n",
      " \"made\", \n",
      " \"even\"\n",
      "]\n"
     ]
    }
   ],
   "source": [
    "import time\n",
    "import json\n",
    "import string\n",
    "import nltk\n",
    "nltk.download('stopwords') # downloads list of stopwords\n",
    "\"\"\"\n",
    "Extracts text, screen names, hashtags, and words from tweets (statuses).\n",
    "    Will print up to maxItems for each statistic.\n",
    "    NOTE: This cell needs to be ran for all future cells to be ran properly\n",
    "\"\"\"\n",
    "filename = \"pokemon13k6pm-11pm.json\" # NOTE: this file will be the one that is read for all following lines of code\n",
    "\n",
    "statuses = json.loads(open(filename).read()) # load data from the saved json file\n",
    "maxItems = 5 # max number of items to print out for \n",
    "\n",
    "status_texts = [ status['text'] \n",
    "                 for status in statuses ]\n",
    "\n",
    "screen_names = [ user_mention['screen_name'] \n",
    "                 for status in statuses\n",
    "                     for user_mention in status['entities']['user_mentions'] ]\n",
    "\n",
    "hashtags = [ hashtag['text'] \n",
    "             for status in statuses\n",
    "                 for hashtag in status['entities']['hashtags'] ]\n",
    "\n",
    "\n",
    "# Compute a collection of all words from all tweets sans stopwords\n",
    "\n",
    "# list of punctuations stored in string package\n",
    "punctuation = list(string.punctuation)\n",
    "# list of stop words, including common twitter stop words (RT, via, etc.)\n",
    "stop = nltk.corpus.stopwords.words('english') + punctuation + ['RT', 'rt', 'via,' 'I']\n",
    "# lists all words found in the tweet collection sans stopwords\n",
    "words = [ w \n",
    "          for t in status_texts \n",
    "              for w in t.split() if w not in stop ]\n",
    "\n",
    "# Explore the first maxItems items for each...\n",
    "print\n",
    "print \"Sample text (tweets): \"\n",
    "print json.dumps(status_texts[0:maxItems], indent=1)\n",
    "print\n",
    "\n",
    "print \"Sample screen names: \"\n",
    "print json.dumps(screen_names[0:maxItems], indent=1) \n",
    "print\n",
    "\n",
    "print \"Sample hashtags: \"\n",
    "print json.dumps(hashtags[0:maxItems], indent=1)\n",
    "print\n",
    "\n",
    "print \"Sample words: \"\n",
    "print json.dumps(words[0:maxItems], indent=1)\n"
   ]
  },
  {
   "cell_type": "code",
   "execution_count": 44,
   "metadata": {
    "collapsed": false
   },
   "outputs": [
    {
     "name": "stdout",
     "output_type": "stream",
     "text": [
      "Top30 most popular words: \n",
      "\n",
      "[(u'Super', 6771), (u'Bowl', 5815), (u'#SB50', 5429), (u'Pokemon', 4699), (u'#Pokemon20', 4322), (u'commercial', 3930), (u'@Pokemon', 2737), (u'I', 1846), (u'@Pokemon:', 1629), (u'spot', 1531), (u'Pok\\xe9mon', 1315), (u'#TrainOn', 1077), (u'ad', 1070), (u'super', 1066), (u'bowl', 1059), (u'Ad', 968), (u'YouTube', 831), (u'Vote', 819), (u\"year's\", 819), (u'Trainers', 815), (u'unite!', 815), (u'Blitz:', 814), (u'https://t.co/\\u2026', 813), (u'https://t.co/zy7eFGSUJe', 812), (u'watching', 793), (u'us', 788), (u'@FunnyPokemon:', 745), (u'wait', 733), (u'tell', 730), (u'look', 718)]\n",
      "\n"
     ]
    }
   ],
   "source": [
    "from collections import Counter\n",
    "import matplotlib.pyplot as plt\n",
    "\"\"\"\n",
    "Prints out frequency distribution of the top number of words (topWords = 30) from statuses as text\n",
    "\"\"\"\n",
    "topWords = 30 # top 30 number of words to print\n",
    "\n",
    "# prints top number of words and their frequencies\n",
    "print \"Top%d most popular words: \\n\" %topWords\n",
    "for item in [words]:\n",
    "    c = Counter(item)\n",
    "    print c.most_common()[:topWords] # topWords\n",
    "    print"
   ]
  },
  {
   "cell_type": "code",
   "execution_count": 45,
   "metadata": {
    "collapsed": false
   },
   "outputs": [
    {
     "name": "stdout",
     "output_type": "stream",
     "text": [
      "Table of top 30 words: \n",
      "+-------------------------+-------+\n",
      "| Word                    | Count |\n",
      "+-------------------------+-------+\n",
      "| Super                   |  6771 |\n",
      "| Bowl                    |  5815 |\n",
      "| #SB50                   |  5429 |\n",
      "| Pokemon                 |  4699 |\n",
      "| #Pokemon20              |  4322 |\n",
      "| commercial              |  3930 |\n",
      "| @Pokemon                |  2737 |\n",
      "| I                       |  1846 |\n",
      "| @Pokemon:               |  1629 |\n",
      "| spot                    |  1531 |\n",
      "| Pokémon                 |  1315 |\n",
      "| #TrainOn                |  1077 |\n",
      "| ad                      |  1070 |\n",
      "| super                   |  1066 |\n",
      "| bowl                    |  1059 |\n",
      "| Ad                      |   968 |\n",
      "| YouTube                 |   831 |\n",
      "| Vote                    |   819 |\n",
      "| year's                  |   819 |\n",
      "| Trainers                |   815 |\n",
      "| unite!                  |   815 |\n",
      "| Blitz:                  |   814 |\n",
      "| https://t.co/…          |   813 |\n",
      "| https://t.co/zy7eFGSUJe |   812 |\n",
      "| watching                |   793 |\n",
      "| us                      |   788 |\n",
      "| @FunnyPokemon:          |   745 |\n",
      "| wait                    |   733 |\n",
      "| tell                    |   730 |\n",
      "| look                    |   718 |\n",
      "+-------------------------+-------+\n"
     ]
    }
   ],
   "source": [
    "from prettytable import PrettyTable\n",
    "\"\"\"\n",
    "Prints a table of up to topWords (set to 30) of the most popular words and their counts from statuses\n",
    "    Has most stop words removed, but some such as \"I\" made it through the filter\n",
    "\"\"\"\n",
    "topWords = 30 # top number of words to print in table\n",
    "label = 'Word' # set label\n",
    "c = Counter(words) # start counter from the collection of all words from all tweets (words)\n",
    "\n",
    "pt = PrettyTable(field_names=[label, 'Count']) \n",
    "[ pt.add_row(kv) for kv in c.most_common()[:topWords]] # add all words that fall into topWords\n",
    "pt.align[label], pt.align['Count'] = 'l', 'r' # Set column alignment\n",
    "print \"Table of top %d words: \" % (topWords)\n",
    "print pt"
   ]
  },
  {
   "cell_type": "markdown",
   "metadata": {},
   "source": [
    "**2. Find the most popular tweets in your collection of tweets**\n",
    "\n",
    "Please plot a table of the top 10 tweets that are the most popular among your collection, i.e., the tweets with the largest number of retweet counts.\n"
   ]
  },
  {
   "cell_type": "code",
   "execution_count": 46,
   "metadata": {
    "collapsed": false
   },
   "outputs": [
    {
     "name": "stdout",
     "output_type": "stream",
     "text": [
      "Table of top 10 of most popular (retweeted) tweets: \n",
      "+-------+---------------+----------------------------------------------------+\n",
      "| Count | Screen Name   | Text                                               |\n",
      "+-------+---------------+----------------------------------------------------+\n",
      "| 23133 | Pokemon       | RT @Pokemon: Get a first look at our #Pokemon20    |\n",
      "|       |               | Super Bowl spot and tell us how you plan to        |\n",
      "|       |               | #TrainOn in 2016!                                  |\n",
      "|       |               | https://t.co/aUIST5Hzob                            |\n",
      "| 1702  | _Snape_       | RT @_Snape_: Did Lady Gaga just win the Super      |\n",
      "|       |               | Bowl? #SB50                                        |\n",
      "| 453   | f_zamora3     | RT @f_zamora3: Now we wait for the @Pokemon        |\n",
      "|       |               | commercial during #SB50 https://t.co/odfYDfl0TV    |\n",
      "| 362   | Kate_Eglen    | RT @Kate_Eglen: Pikachu cupcakes to celebrate      |\n",
      "|       |               | Pokemon in the Super Bowl !! #Pokemon20            |\n",
      "|       |               | https://t.co/arNYvI3rL9                            |\n",
      "| 340   | FunnyPokemon  | RT @FunnyPokemon: Retweet if you're excited for    |\n",
      "|       |               | the new Pokemon Super Bowl commercial!             |\n",
      "|       |               | https://t.co/doyJSA4bf4                            |\n",
      "| 311   | rudymancuso   | RT @rudymancuso: If you drink, walk. Don't drive.  |\n",
      "|       |               | #GiveADamn #SB50 @Budweiser #ad                    |\n",
      "|       |               | https://t.co/UCyYAlL6Fd                            |\n",
      "| 281   | TheFakeESPN   | RT @TheFakeESPN: Nothing says Super Bowl like      |\n",
      "|       |               | Pokemon                                            |\n",
      "| 222   | EW            | RT @EW: Celebrate 20 years of #Pokémon with this   |\n",
      "|       |               | epic #SB50 commercial: https://t.co/g2tS0o8TKB     |\n",
      "|       |               | https://t.co/jD0VEZCthY                            |\n",
      "| 205   | USATODAY      | RT @USATODAY: Pokemon turns 20 this year: Watch an |\n",
      "|       |               | extended cut of the #SB50 commercial #admeter      |\n",
      "|       |               | #pokemon20                                         |\n",
      "|       |               | https://t.co/kQHOAXcmJy                            |\n",
      "| 193   | AshKetchum151 | RT @AshKetchum151: Who's waiting for the Pokemon   |\n",
      "|       |               | commercial? #SB50                                  |\n",
      "+-------+---------------+----------------------------------------------------+\n"
     ]
    }
   ],
   "source": [
    "from prettytable import PrettyTable\n",
    "\"\"\"\n",
    "Creates table for the most popular tweets (those with largest retweets) up to topTweets (set to 10) from status\n",
    "    Repititions of collected retweets removed from table\n",
    "    May take a few seconds to run\n",
    "\"\"\"\n",
    "topTweets = 10 # top 10 number of most retweeted tweets to display\n",
    "retweets = [\n",
    "            # Store out a tuple of these three values ...\n",
    "            (status['retweet_count'], \n",
    "             status['retweeted_status']['user']['screen_name'],\n",
    "             status['text']) \n",
    "            \n",
    "            # ... for each status ...\n",
    "            for status in statuses \n",
    "            \n",
    "            # ... so long as the status meets this condition.\n",
    "                if status.has_key('retweeted_status')\n",
    "           ]\n",
    "\n",
    "# Slice off the first topTweets from the sorted results and display each item in the tuple\n",
    "\n",
    "pt = PrettyTable(field_names=['Count', 'Screen Name', 'Text'])\n",
    "\n",
    "# remove duplicate retweets and use pretty table to format the top tweets\n",
    "count = 0\n",
    "screen_name_list = []\n",
    "for row in sorted(retweets, reverse=True):\n",
    "    if row[1] not in screen_name_list:\n",
    "        screen_name_list.append(row[1])\n",
    "        [ pt.add_row(row) ]\n",
    "        count += 1\n",
    "        if (count >= 10):\n",
    "            break\n",
    "            \n",
    "pt.max_width['Text'] = 50\n",
    "pt.align= 'l'\n",
    "print \"Table of top %d of most popular (retweeted) tweets: \" %(topTweets)\n",
    "print pt"
   ]
  },
  {
   "cell_type": "markdown",
   "metadata": {},
   "source": [
    "# **3. Find the most popular Tweet Entities in your collection of tweets**\n",
    "\n",
    "Please plot a table of the top 10 hashtags, top 10 user mentions that are the most popular in your collection of tweets."
   ]
  },
  {
   "cell_type": "code",
   "execution_count": 30,
   "metadata": {
    "collapsed": false
   },
   "outputs": [
    {
     "name": "stdout",
     "output_type": "stream",
     "text": [
      "Table for top 10 of most popular Hashtag: \n",
      "+-------------+-------+\n",
      "| Hashtag     | Count |\n",
      "+-------------+-------+\n",
      "| SB50        |  5555 |\n",
      "| Pokemon20   |  4811 |\n",
      "| TrainOn     |  1095 |\n",
      "| SuperBowl   |   617 |\n",
      "| pokemon20   |   409 |\n",
      "| Pokemon     |   268 |\n",
      "| Pokémon     |   214 |\n",
      "| admeter     |   198 |\n",
      "| Pokémon20   |   176 |\n",
      "| collegelife |   174 |\n",
      "+-------------+-------+\n",
      "Table for top 10 of most popular User mentions: \n",
      "+---------------+-------+\n",
      "| User mentions | Count |\n",
      "+---------------+-------+\n",
      "| Pokemon       |  4743 |\n",
      "| FunnyPokemon  |   746 |\n",
      "| f_zamora3     |   417 |\n",
      "| Kate_Eglen    |   333 |\n",
      "| AshKetchum151 |   325 |\n",
      "| TheFakeESPN   |   244 |\n",
      "| YouTube       |   223 |\n",
      "| EW            |   213 |\n",
      "| TheJWittz     |   189 |\n",
      "| USATODAY      |   183 |\n",
      "+---------------+-------+\n"
     ]
    }
   ],
   "source": [
    "\"\"\"\n",
    "Creates tables for the most popular tweet entities (hashtags and user mentions) up to topTweets (set to 10)\n",
    "\"\"\"\n",
    "topTweetEnt = 10 # top 10 number of most popular tweet entities\n",
    "\n",
    "for label, data in ( ('Hashtag', hashtags), # for data stored in hastags and screen_names\n",
    "                     ('User mentions', screen_names) ):\n",
    "    pt = PrettyTable(field_names=[label, 'Count']) # create labels\n",
    "    #print c # un-comment to view all entities sorted by most popular (may be useful to skip common words)\n",
    "    c = Counter(data)\n",
    "    [ pt.add_row(kv) for kv in c.most_common()[:topTweetEnt] ] # ranked top entities up to topTweetEnt\n",
    "    pt.align[label], pt.align['Count'] = 'l', 'r' # Set column alignment\n",
    "    print \"Table for top %d of most popular %s: \" %(topTweetEnt, label)\n",
    "    print pt\n"
   ]
  },
  {
   "cell_type": "markdown",
   "metadata": {},
   "source": [
    "*------------------------\n",
    "\n",
    "#Problem 3: Getting \"All\" friends and \"All\" followers of a popular user in twitter\n"
   ]
  },
  {
   "cell_type": "markdown",
   "metadata": {},
   "source": [
    "* choose a popular twitter user who has many followers, such as \"ladygaga\".\n",
    "* Get the list of all friends and all followers of the twitter user.\n",
    "* Plot 20 out of the followers, plot their ID numbers and screen names in a table.\n",
    "* Plot 20 out of the friends (if the user has more than 20 friends), plot their ID numbers and screen names in a table."
   ]
  },
  {
   "cell_type": "code",
   "execution_count": 48,
   "metadata": {
    "collapsed": false,
    "scrolled": false
   },
   "outputs": [
    {
     "name": "stderr",
     "output_type": "stream",
     "text": [
      "Fetched 6 total friends ids for Pokemon\n",
      "Fetched 5000 total followers ids for Pokemon"
     ]
    },
    {
     "name": "stdout",
     "output_type": "stream",
     "text": [
      "Table for friends of Pokemon: \n",
      "+------------+----------------+\n",
      "| ID numbers |  Screen names  |\n",
      "+------------+----------------+\n",
      "| 2260759812 |   PokemonFR    |\n",
      "| 2260755366 |   PokemonIT    |\n",
      "| 2296634058 |   PokemonDEU   |\n",
      "| 168754736  | pokemonworlds  |\n",
      "| 2260749054 | Pokemon_ES_ESP |\n",
      "| 385175199  | Junichi_Masuda |\n",
      "+------------+----------------+\n",
      "\n",
      "Table for followers of Pokemon: \n",
      "+------------+-----------------+\n",
      "| ID numbers |   Screen names  |\n",
      "+------------+-----------------+\n",
      "| 2894546947 |   Marisa46_96   |\n",
      "| 2941556741 |    frifri1091   |\n",
      "| 610441224  |   AgustinPDiaz  |\n",
      "| 2908352525 |    DMaenhaut    |\n",
      "| 3124183054 |    MitchMurse   |\n",
      "|  56895546  |   imrahulvyas   |\n",
      "| 2305945626 |     PyroJiro    |\n",
      "| 4886112282 | _corryn_tombow_ |\n",
      "| 2562191389 |  SUFAOMIFAMILI  |\n",
      "| 362291231  |     tbastiii    |\n",
      "| 142062598  | Newcastle_Fan30 |\n",
      "| 2816389161 |     Tersh789    |\n",
      "| 271034410  |   ghostrain87   |\n",
      "| 4823799850 |   MarcelJung94  |\n",
      "| 875733037  |   aangel_wings  |\n",
      "| 4886308909 |  Rosh_Ravenoph  |\n",
      "| 1557268530 |   IanGarrett08  |\n",
      "| 346292275  |    Eric_Paco    |\n",
      "| 2937542712 |  fer099shin0da  |\n",
      "| 3703231156 |     kstox91     |\n",
      "+------------+-----------------+\n"
     ]
    },
    {
     "name": "stderr",
     "output_type": "stream",
     "text": [
      "\n"
     ]
    }
   ],
   "source": [
    "from functools import partial\n",
    "from sys import maxint\n",
    "import sys\n",
    "import time\n",
    "from urllib2 import URLError\n",
    "from httplib import BadStatusLine\n",
    "\n",
    "\"\"\"\n",
    "Functions to make valid twitter requests forall friends and followers of a given twitter user.\n",
    "    Throws exceptions if error happens when calling get_friends_followers_ids.\n",
    "\"\"\"\n",
    "\n",
    "# makes valid twitter request and throw exceptions if error happens\n",
    "# would be called by get_friends_followers_ids.\n",
    "def make_twitter_request(twitter_api_func, max_errors=10, *args, **kw): \n",
    "    \n",
    "    # A nested helper function that handles common HTTPErrors. Return an updated\n",
    "    # value for wait_period if the problem is a 500 level error. Block until the\n",
    "    # rate limit is reset if it's a rate limiting issue (429 error). Returns None\n",
    "    # for 401 and 404 errors, which requires special handling by the caller.\n",
    "    def handle_twitter_http_error(e, wait_period=2, sleep_when_rate_limited=True):\n",
    "    \n",
    "        if wait_period > 3600: # Seconds\n",
    "            print >> sys.stderr, 'Too many retries. Quitting.'\n",
    "            raise e\n",
    "    \n",
    "        # See https://dev.twitter.com/docs/error-codes-responses for common codes\n",
    "    \n",
    "        if e.e.code == 401:\n",
    "            print >> sys.stderr, 'Encountered 401 Error (Not Authorized)'\n",
    "            return None\n",
    "        elif e.e.code == 404:\n",
    "            print >> sys.stderr, 'Encountered 404 Error (Not Found)'\n",
    "            return None\n",
    "        elif e.e.code == 429: \n",
    "            print >> sys.stderr, 'Encountered 429 Error (Rate Limit Exceeded)'\n",
    "            if sleep_when_rate_limited:\n",
    "                print >> sys.stderr, \"Retrying in 15 minutes...ZzZ...\"\n",
    "                sys.stderr.flush()\n",
    "                time.sleep(60*15 + 5)\n",
    "                print >> sys.stderr, '...ZzZ...Awake now and trying again.'\n",
    "                return 2\n",
    "            else:\n",
    "                raise e # Caller must handle the rate limiting issue\n",
    "        elif e.e.code in (500, 502, 503, 504):\n",
    "            print >> sys.stderr, 'Encountered %i Error. Retrying in %i seconds' % \\\n",
    "                (e.e.code, wait_period)\n",
    "            time.sleep(wait_period)\n",
    "            wait_period *= 1.5\n",
    "            return wait_period\n",
    "        else:\n",
    "            raise e\n",
    "\n",
    "    # End of nested helper function\n",
    "    wait_period = 2 \n",
    "    error_count = 0 \n",
    "\n",
    "    while True:\n",
    "        try:\n",
    "            return twitter_api_func(*args, **kw)\n",
    "        except twitter.api.TwitterHTTPError, e:\n",
    "            error_count = 0 \n",
    "            wait_period = handle_twitter_http_error(e, wait_period)\n",
    "            if wait_period is None:\n",
    "                return\n",
    "        except URLError, e:\n",
    "            error_count += 1\n",
    "            time.sleep(wait_period)\n",
    "            wait_period *= 1.5\n",
    "            print >> sys.stderr, \"URLError encountered. Continuing.\"\n",
    "            if error_count > max_errors:\n",
    "                print >> sys.stderr, \"Too many consecutive errors...bailing out.\"\n",
    "                raise\n",
    "        except BadStatusLine, e:\n",
    "            error_count += 1\n",
    "            time.sleep(wait_period)\n",
    "            wait_period *= 1.5\n",
    "            print >> sys.stderr, \"BadStatusLine encountered. Continuing.\"\n",
    "            if error_count > max_errors:\n",
    "                print >> sys.stderr, \"Too many consecutive errors...bailing out.\"\n",
    "                raise\n",
    "\n",
    "\n",
    "# get user profile by the given screen_names OR user_ids\n",
    "# if screen_names are given, use the returned result to retrieve user_ids,\n",
    "# otherwise, use the result to retrieve screen_names\n",
    "def get_user_profile(twitter_api, screen_names=None, user_ids=None):\n",
    "   \n",
    "    # Must have either screen_name or user_id (logical xor)\n",
    "    assert (screen_names != None) != (user_ids != None), \\\n",
    "    \"Must have screen_names or user_ids, but not both\"\n",
    "    \n",
    "    items_to_info = {}\n",
    "\n",
    "    items = screen_names or user_ids\n",
    "    \n",
    "    while len(items) > 0:\n",
    "\n",
    "        # Process 100 items at a time per the API specifications for /users/lookup.\n",
    "        # See https://dev.twitter.com/docs/api/1.1/get/users/lookup for details.\n",
    "        \n",
    "        items_str = ','.join([str(item) for item in items[:100]])\n",
    "        items = items[100:]\n",
    "\n",
    "        if screen_names:\n",
    "            response = make_twitter_request(twitter_api.users.lookup, \n",
    "                                            screen_name=items_str)\n",
    "        else: # user_ids\n",
    "            response = make_twitter_request(twitter_api.users.lookup, \n",
    "                                            user_id=items_str)\n",
    "    \n",
    "        for user_info in response:\n",
    "            if screen_names:\n",
    "                items_to_info[user_info['screen_name']] = user_info\n",
    "            else: # user_ids\n",
    "                items_to_info[user_info['id']] = user_info\n",
    "\n",
    "    return items_to_info\n",
    "\n",
    "\n",
    "\n",
    "# specify either the screen_name or the user_id of a popular twitter user, like Lady Gaga etc.\n",
    "# get all her/his friends and followers\n",
    "def get_friends_followers_ids(twitter_api, screen_name=None, user_id=None,\n",
    "                              friends_limit=maxint, followers_limit=maxint):\n",
    "    \n",
    "    # Must have either screen_name or user_id (logical xor)\n",
    "    assert (screen_name != None) != (user_id != None), \\\n",
    "    \"Must have screen_name or user_id, but not both\"\n",
    "    \n",
    "    # See https://dev.twitter.com/docs/api/1.1/get/friends/ids and\n",
    "    # https://dev.twitter.com/docs/api/1.1/get/followers/ids for details\n",
    "    # on API parameters\n",
    "    \n",
    "    get_friends_ids = partial(make_twitter_request, twitter_api.friends.ids, \n",
    "                              count=5000)\n",
    "    get_followers_ids = partial(make_twitter_request, twitter_api.followers.ids, \n",
    "                                count=5000)\n",
    "\n",
    "    friends_ids, followers_ids = [], []\n",
    "    \n",
    "    for twitter_api_func, limit, ids, label in [\n",
    "                    [get_friends_ids, friends_limit, friends_ids, \"friends\"], \n",
    "                    [get_followers_ids, followers_limit, followers_ids, \"followers\"]\n",
    "                ]:\n",
    "        \n",
    "        if limit == 0: continue\n",
    "        \n",
    "        cursor = -1\n",
    "        while cursor != 0:\n",
    "        \n",
    "            # Use make_twitter_request via the partially bound callable...\n",
    "            if screen_name: \n",
    "                response = twitter_api_func(screen_name=screen_name, cursor=cursor)\n",
    "            else: # user_id\n",
    "                response = twitter_api_func(user_id=user_id, cursor=cursor)\n",
    "\n",
    "            if response is not None:\n",
    "                ids += response['ids']\n",
    "                cursor = response['next_cursor']\n",
    "        \n",
    "            print >> sys.stderr, 'Fetched {0} total {1} ids for {2}'.format(len(ids), \n",
    "                                                    label, (user_id or screen_name))\n",
    "        \n",
    "            # XXX: You may want to store data during each iteration to provide an \n",
    "            # an additional layer of protection from exceptional circumstances\n",
    "        \n",
    "            if len(ids) >= limit or response is None:\n",
    "                break\n",
    "\n",
    "    # Do something useful with the IDs, like store them to disk...\n",
    "    return friends_ids[:friends_limit], followers_ids[:followers_limit]\n",
    "\n",
    "\n",
    "\n",
    "#---------------------------------------------- \n",
    "\n",
    "\"\"\"\n",
    "Aquires friends and followers for a given screen name (twitterUser).\n",
    "    Prints tables of first 20 friends and 20 followers\n",
    "    May take a few seconds to run\n",
    "    NOTE: If user has <20 friends, lower the range in order to print correctly\n",
    "\"\"\"\n",
    "\n",
    "twitterUser = \"Pokemon\" # this is the twitter user to find friends and followers of\n",
    "\n",
    "# get twitter authorization\n",
    "twitter_api = oauth_login()\n",
    "\n",
    "# grab friends and follower ids\n",
    "friends_ids, followers_ids = get_friends_followers_ids(twitter_api, \n",
    "                                                       screen_name=twitterUser,\n",
    "                                                       friends_limit=1000, \n",
    "                                                       followers_limit=1000)\n",
    "\n",
    "# use friends_ids to retrieve the friends screen_names\n",
    "friends_profiles = get_user_profile(twitter_api, user_ids=friends_ids)\n",
    "# select first 20 friends from the friends_profiles\n",
    "friends = [(friends_profiles.keys()[i], friends_profiles.values()[i]['screen_name'])\n",
    "                  for i in range(20)] # change 20 if not enough friends\n",
    "# use follower ids to retrieve the follower screen names\n",
    "followers_profiles = get_user_profile(twitter_api, user_ids=followers_ids)\n",
    "# select the first 20 followers from the followers_profiles\n",
    "followers = [(followers_profiles.keys()[i], followers_profiles.values()[i]['screen_name'])\n",
    "                  for i in range(20)]\n",
    "\n",
    "# plot the result \n",
    "print \"Table for friends of %s: \" %twitterUser \n",
    "pt = PrettyTable(field_names=['ID numbers', 'Screen names'])\n",
    "[ pt.add_row(friend) for friend in friends]\n",
    "pt.align[label], pt.align['Count'] = 'l', 'r' # Set column alignment\n",
    "print pt\n",
    "\n",
    "print\n",
    "\n",
    "print \"Table for followers of %s: \" %twitterUser\n",
    "pt = PrettyTable(field_names=['ID numbers', 'Screen names'])\n",
    "[ pt.add_row(follower) for follower in followers]\n",
    "pt.align[label], pt.align['Count'] = 'l', 'r' # Set column alignment\n",
    "print pt\n"
   ]
  },
  {
   "cell_type": "markdown",
   "metadata": {},
   "source": [
    "* Compute the mutual friends within the two groups, i.e., the users who are in both friend list and follower list, plot their ID numbers and screen names in a table"
   ]
  },
  {
   "cell_type": "code",
   "execution_count": 49,
   "metadata": {
    "collapsed": false
   },
   "outputs": [
    {
     "name": "stdout",
     "output_type": "stream",
     "text": [
      "Table of mutual friends between the friends and followers of Pokemon: \n",
      "+------------+--------------+\n",
      "| ID numbers | Screen names |\n",
      "+------------+--------------+\n",
      "+------------+--------------+\n"
     ]
    }
   ],
   "source": [
    "\"\"\"\n",
    "Computes the mutual friends within the friends and followers of a twitter user (twitterUser).\n",
    "    Their ID numbers and screen names are printed in a table.\n",
    "    If there is no mutual friends, code prints empty table. \n",
    "\"\"\"\n",
    "\n",
    "# first, find the intersection of the two groups\n",
    "friends_ids = friends_ids\n",
    "followers_ids = set(followers_ids) # convert the list to set\n",
    "mutual_friends_ids = [friend_id for friend_id in friends_ids if friend_id in followers_ids] # get the intersection\n",
    "\n",
    "# print to see # of mutual friends and followers by their ids\n",
    "#print len(mutual_friends_ids)\n",
    "\n",
    "# based on the known ids, get mutual_friends list, format of [(user_id, screen_name) ... ] \n",
    "user_profiles = get_user_profile(twitter_api, user_ids=mutual_friends_ids)\n",
    "mutual_friends = [(user_profiles.keys()[i], user_profiles.values()[i]['screen_name'])\n",
    "                  for i in range(len(user_profiles))]\n",
    "# print mutual_friends\n",
    "\n",
    "# second, visualize the intersection result by plotting in pretty table\n",
    "pt = PrettyTable(field_names=['ID numbers', 'Screen names'])\n",
    "[ pt.add_row(mf) for mf in mutual_friends]\n",
    "pt.align[label], pt.align['Count'] = 'l', 'r' # Set column alignment\n",
    "print \"Table of mutual friends between the friends and followers of %s: \" %twitterUser \n",
    "print pt\n"
   ]
  },
  {
   "cell_type": "markdown",
   "metadata": {},
   "source": [
    "*------------------------\n",
    "\n",
    "#Problem 4: Explore the data \n",
    "\n",
    "Run some additional experiments with your data to gain familiarity with the twitter data ant twitter API"
   ]
  },
  {
   "cell_type": "markdown",
   "metadata": {
    "collapsed": false,
    "scrolled": true
   },
   "source": [
    "The following is a list of methods for extracting additonal information from twitter data stored in statuses.\n",
    " Can modify the following to arrive at interesting results of different data sets.\n",
    " Change the \"filename\" in previous cell to extract information from various files."
   ]
  },
  {
   "cell_type": "code",
   "execution_count": 50,
   "metadata": {
    "collapsed": false,
    "scrolled": true
   },
   "outputs": [
    {
     "name": "stdout",
     "output_type": "stream",
     "text": [
      "Lexical Diversity of words: 0.074606248754\n",
      "Lexical Diversity of screen_names: 0.0807779212395\n",
      "Lexical Diversity of hashtags: 0.03125\n"
     ]
    }
   ],
   "source": [
    "\"\"\"\n",
    "Computes lexical diversity. \n",
    "    * Lexical diversity is an expression of the number of unique \n",
    "    tokens in the text divided by the total number of tokens in \n",
    "    the text. \n",
    "    * The texts here are words, screen names, and \n",
    "    hastags which are printed out.\n",
    "\"\"\"\n",
    "def lexical_diversity(tokens):\n",
    "    return 1.0*len(set(tokens))/len(tokens)  # lexical diversity formula\n",
    "\n",
    "print \"Lexical Diversity of words: %s\" % lexical_diversity(words)\n",
    "print \"Lexical Diversity of screen_names: %s\" % lexical_diversity(screen_names)\n",
    "print \"Lexical Diversity of hashtags: %s\" % lexical_diversity(hashtags)"
   ]
  },
  {
   "cell_type": "code",
   "execution_count": 51,
   "metadata": {
    "collapsed": false
   },
   "outputs": [
    {
     "name": "stdout",
     "output_type": "stream",
     "text": [
      "Average Word Count per Tweet: 14.9389243391\n"
     ]
    }
   ],
   "source": [
    "\"\"\"\n",
    "Computes the average number of words per tweet in statuses\n",
    "\"\"\"\n",
    "def average_words(statuses):\n",
    "    total_words = sum([ len(s.split()) for s in statuses ])  # sum number of strings in statuses\n",
    "    return 1.0*total_words/len(statuses)\n",
    "\n",
    "print \"Average Word Count per Tweet: %s\" % average_words(status_texts)"
   ]
  },
  {
   "cell_type": "code",
   "execution_count": 52,
   "metadata": {
    "collapsed": false
   },
   "outputs": [
    {
     "data": {
      "text/plain": [
       "<matplotlib.text.Text at 0x433446a0>"
      ]
     },
     "execution_count": 52,
     "metadata": {},
     "output_type": "execute_result"
    },
    {
     "data": {
      "image/png": "[encoded data removed]",
      "text/plain": [
       "<matplotlib.figure.Figure at 0x31303390>"
      ]
     },
     "metadata": {},
     "output_type": "display_data"
    }
   ],
   "source": [
    "%matplotlib inline\n",
    "from collections import Counter\n",
    "import matplotlib.pyplot as plt\n",
    "\"\"\"\n",
    "Plots frequencies of word rank to frequency of that word. \n",
    "For words of rankings, see the word count table above.\n",
    "\"\"\"\n",
    "word_counts = sorted(Counter(words).values(), reverse=True)\n",
    "plt.loglog(word_counts)\n",
    "plt.ylabel(\"Frequency\")\n",
    "plt.xlabel(\"Word Rank\")"
   ]
  },
  {
   "cell_type": "code",
   "execution_count": 53,
   "metadata": {
    "collapsed": false,
    "scrolled": false
   },
   "outputs": [
    {
     "data": {
      "image/png": "[encoded data removed]",
      "text/plain": [
       "<matplotlib.figure.Figure at 0x40c8ce10>"
      ]
     },
     "metadata": {},
     "output_type": "display_data"
    },
    {
     "data": {
      "image/png": "[encoded data removed]",
      "text/plain": [
       "<matplotlib.figure.Figure at 0x3f047978>"
      ]
     },
     "metadata": {},
     "output_type": "display_data"
    },
    {
     "data": {
      "image/png": "[encoded data removed]",
      "text/plain": [
       "<matplotlib.figure.Figure at 0x3632f390>"
      ]
     },
     "metadata": {},
     "output_type": "display_data"
    },
    {
     "data": {
      "text/plain": [
       "<matplotlib.figure.Figure at 0x34632048>"
      ]
     },
     "metadata": {},
     "output_type": "display_data"
    }
   ],
   "source": [
    "%matplotlib inline\n",
    "\"\"\"\n",
    "Generates histograms of words, screen names, and hashtags.\n",
    "    NOTE: un-comment second plt.hist to add specified bins and range\n",
    "\"\"\"\n",
    "\n",
    "for label, data in (('Words', words), \n",
    "                    ('Screen Names', screen_names), \n",
    "                    ('Hashtags', hashtags)):\n",
    "\n",
    "    # Build a frequency map for each set of data\n",
    "    # and plot the values\n",
    "    c = Counter(data)\n",
    "    plt.hist(c.values())\n",
    "    # plt.hist(c.values(), 6, range = [0, 30])   # NOTE: Can change number of bins and range if needed\n",
    "    \n",
    "    # Add a title and y-label ...\n",
    "    plt.title(label)\n",
    "    plt.ylabel(\"Number of items in bin\")\n",
    "    plt.xlabel(\"Bins (number of times an item appeared)\")\n",
    "    \n",
    "    # ... and display as a new figure\n",
    "    plt.figure()"
   ]
  },
  {
   "cell_type": "code",
   "execution_count": 54,
   "metadata": {
    "collapsed": false
   },
   "outputs": [
    {
     "data": {
      "text/plain": [
       "<matplotlib.text.Text at 0x4b218dd8>"
      ]
     },
     "execution_count": 54,
     "metadata": {},
     "output_type": "execute_result"
    },
    {
     "data": {
      "image/png": "[encoded data removed]",
      "text/plain": [
       "<matplotlib.figure.Figure at 0x4d2250b8>"
      ]
     },
     "metadata": {},
     "output_type": "display_data"
    }
   ],
   "source": [
    "\"\"\"\n",
    "Generates histogram of retweet counts of tweets\n",
    "    NOTE: Can adjust number of bins and range similar to above\n",
    "\"\"\"\n",
    "counts = [count for count, _, _ in retweets]\n",
    "\n",
    "plt.hist(counts)\n",
    "plt.title(\"Retweets\")\n",
    "plt.xlabel('Bins (number of times retweeted)')\n",
    "plt.ylabel('Number of tweets in bin')\n",
    "\n",
    "#print counts"
   ]
  },
  {
   "cell_type": "code",
   "execution_count": null,
   "metadata": {
    "collapsed": false
   },
   "outputs": [],
   "source": [
    "\"\"\"\n",
    "Utilize twitters REST API rather than Streaming API\n",
    "    This api has ability to use operators and collect tweets during certain time frames (6-9 weeks worth stated by twitter)\n",
    "\n",
    "\n",
    "You can add Query operators to the query search. See: https://dev.twitter.com/rest/public/search\n",
    "Examples:\n",
    "    'beer pokemon' : will search for words containing both \"beer\" and \"pokemon\" anywhere in tweet\n",
    "    '\"beer pokemon\"'   : will search for exact phrase \"beer pokemon\"\n",
    "    'beer OR pokemon' : will search for tweets with either \"beer\" and/or \"pokemon\"\n",
    "    'pokemon :)' : will search tweets for pokemon in a positive attitude\n",
    "    'beer :('    : will search tweets for beer in a negative attitude\n",
    "    \n",
    "\"\"\"\n",
    "q = '(pokemon OR #Pokemon20 OR #TrainOn) (#SB50 OR #SuperBowl OR super bowl OR commercial OR ad)' # the query to search in twitter, remember can add operators!\n",
    "              \n",
    "filename = 'pokemon13k6pm-11pm.json' # the file to save your twitter data to (REPLACE). \n",
    "                                  # Will delete data if to file if it already exists\n",
    "max_results = 100000 # max number of tweets to collect. Keep as multiples of 100.\n",
    "count = 100 # the amount of max tweets to collect in each batch\n",
    "\n",
    "since_id = 696468492183347202  # only collects tweets after this id, works better than since operator\n",
    "                               # there are clock twitter accounts that post on the hour for easy ids\n",
    "max_id = 696543986031394817 # only collects tweets before this id was made, works better than until operator\n",
    "\n",
    "# Sample IDs to use as time stamp references\n",
    "# 696317746406105088 - 8am Sunday\n",
    "# 696468492183347202 - 6pm Sunday\n",
    "# 696543986031394817 - 11pm Sunday\n",
    "\n",
    "\n",
    "#--------------------------\n",
    "\n",
    "import twitter\n",
    "from urllib import unquote\n",
    "import json\n",
    "import math\n",
    "import urllib\n",
    "\n",
    "\n",
    "def oauth_login():\n",
    "    \"\"\"\n",
    "    Logs into twitter using the following keys.\n",
    "    \"\"\"\n",
    "    # Go to http://twitter.com/apps/new to create an app and get values\n",
    "    # for these credentials that you'll need to provide in place of these\n",
    "    # empty string values that are defined as placeholders.\n",
    "    # See https://dev.twitter.com/docs/auth/oauth for more information \n",
    "    # on Twitter's OAuth implementation.\n",
    "    \n",
    "    CONSUMER_KEY = '1Y71E7ltFJjaouxc04YAdYcFG'\n",
    "    CONSUMER_SECRET ='KO9VifpzCanKjlfCzX2KGpjheCkPYzhzygKLQvbPmm0r88qGwr'\n",
    "    OAUTH_TOKEN = '467864818-LAMaMeV50N8opXd18InibfDmxJ3QQiu1j2N0SS4E'\n",
    "    OAUTH_TOKEN_SECRET = '7MOHEBrgdCQAjVAWbLEhNV6FoD98TdzinmAFMaleBoz0N'\n",
    "    \n",
    "    auth = twitter.oauth.OAuth(OAUTH_TOKEN, OAUTH_TOKEN_SECRET,\n",
    "                               CONSUMER_KEY, CONSUMER_SECRET)\n",
    "    \n",
    "    twitter_api = twitter.Twitter(auth=auth)\n",
    "    return twitter_api\n",
    "\n",
    "\n",
    "def save_json(filename, data):\n",
    "    \"\"\"\n",
    "    Saves a json file (data) to a file (filename).\n",
    "        filename = name of the file to write to as a string\n",
    "        data     = the data collected from twitter\n",
    "    NOTE: If the filename already exists on current working directory data will\n",
    "          be appended to that file. If the filename does not already exist then\n",
    "          one will be created and written to. *May get slow the larger the files*\n",
    "    \"\"\"\n",
    "\n",
    "    with open(filename,'w') as file: # 'a' means open a file to 'append'\n",
    "        file.write(unicode(json.dumps(data, indent=1)))\n",
    "\n",
    "\n",
    "def twitter_search(twitter_api, q, count, max_results):\n",
    "    \"\"\"\n",
    "    Uses an authorized twitter_api to do a search with a given hot topic (q).\n",
    "        count: the number of tweets to return per page, up to a maximum 100.\n",
    "        max_results: maximum tweets to return in total (should be between 200 and 100,000 ).\n",
    "    \n",
    "    \"\"\"\n",
    "    q = urllib.quote_plus(q) # URL encodes search query q to include operators\n",
    "    \n",
    "    # See https://dev.twitter.com/docs/api/1.1/get/search/tweets\n",
    "    search_results = twitter_api.search.tweets(q=q, count=count, since_id=since_id, max_id=max_id)\n",
    "    statuses = search_results['statuses']\n",
    "\n",
    "    # Iterate through numBatches batches of results by following the cursor\n",
    "    numBatches = math.floor(max_results/100) # number of batches of 100 tweets (chose to round down to nearest 100)\n",
    "    numBatches = int(numBatches) # convert float to int\n",
    "    for _ in range(numBatches):\n",
    "        print \"Length of statuses\", len(statuses)\n",
    "        try:\n",
    "            next_results = search_results['search_metadata']['next_results']\n",
    "        except KeyError, e: # No more results when next_results doesn't exist\n",
    "            break\n",
    "        # Create a dictionary from next_results, which has the following form:\n",
    "        # ?max_id=313519052523986943&q=NCAA&include_entities=1\n",
    "        kwargs = dict([ kv.split('=') for kv in unquote(next_results[1:]).split(\"&\") ])\n",
    "\n",
    "        search_results = twitter_api.search.tweets(**kwargs)\n",
    "        statuses += search_results['statuses']\n",
    "\n",
    "        if len(statuses) >= max_results:\n",
    "            break\n",
    "\n",
    "    print \"    Amount of tweets collected: %d\" %len(statuses) # prints actual number of tweets collected incase rate limited\n",
    "    save_json(filename, statuses) # save data collected in statuses, WILL DELETE OLD FILE IF EXISTED!\n",
    "    print \"    Saved tweets as json to: %s\" %filename # reminds what file was saved\n",
    "    \n",
    "\n",
    "twitter_api = oauth_login() # gets authorization to twitter_api\n",
    "twitter_search(twitter_api, q, count, max_results) # collect twitter data\n",
    "\n"
   ]
  },
  {
   "cell_type": "code",
   "execution_count": null,
   "metadata": {
    "collapsed": true
   },
   "outputs": [],
   "source": [
    "import time\n",
    "import json\n",
    "import string\n",
    "import nltk\n",
    "import os\n",
    "\"\"\"\n",
    "Returns the number of tweets from each json file of tweets collected which are stored in directory.\n",
    "\"\"\" \n",
    "directory = 'C:\\Users\\Branden\\Documents\\DS 501\\JSON Data' # change this to your directory\n",
    "for filename in os.listdir(directory): \n",
    "    if filename == '.ipynb_checkpoints':\n",
    "        print 0\n",
    "    elif filename == 'casestudy1.ipynb4':\n",
    "        print 0\n",
    "    else:\n",
    "        statuses = json.loads(open(filename).read()) # load data from the saved json file\n",
    "        print filename\n",
    "        print len(statuses)"
   ]
  },
  {
   "cell_type": "markdown",
   "metadata": {},
   "source": [
    "*-----------------\n",
    "# Done\n",
    "\n",
    "All set! \n",
    "\n",
    "** What do you need to submit?**\n",
    "\n",
    "* **Notebook File**: Save this IPython notebook, and find the notebook file in your folder (for example, \"filename.ipynb\"). This is the file you need to submit. Please make sure all the plotted tables and figures are in the notebook. If you used \"ipython notebook --pylab=inline\" to open the notebook, all the figures and tables should have shown up in the notebook.\n",
    "\n",
    "\n",
    "* **PPT Slides**: please prepare PPT slides (for 10 minutes' talk) to present about the case study . We will ask two teams which are randomly selected to present their case studies in class for this case study. \n",
    "\n",
    "* ** Report**: please prepare a report (less than 10 pages) to report what you found in the data.\n",
    "    * What data you collected? \n",
    "    * Why this topic is interesting or important to you? (Motivations)\n",
    "    * How did you analyse the data?\n",
    "    * What did you find in the data? \n",
    " \n",
    "     (please include figures or tables in the report, but no source code)\n",
    "\n",
    "Please compress all the files in a zipped file.\n",
    "\n",
    "\n",
    "** How to submit: **\n",
    "\n",
    "        Please submit through myWPI, in the Assignment \"Case Study 1\".\n",
    "        \n",
    "** Note: Each team just need to submit one submission in myWPI **"
   ]
  },
  {
   "cell_type": "markdown",
   "metadata": {},
   "source": [
    "# Grading Criteria:\n",
    "\n",
    "** Totoal Points: 120 **\n",
    "\n",
    "\n",
    "---------------------------------------------------------------------------\n",
    "** Notebook:  **\n",
    "    Points: 80\n",
    "\n",
    "\n",
    "    -----------------------------------\n",
    "    Qestion 1:\n",
    "    Points: 20\n",
    "    -----------------------------------\n",
    "    \n",
    "    (1) Select a topic that you are interested in.\n",
    "    Points: 6 \n",
    "    \n",
    "    (2) Use Twitter Streaming API to sample a collection of tweets about this topic in real time. (It would be recommended that the number of tweets should be larger than 200, but smaller than 1 million. Please check whether the total number of tweets collected is larger than 200?\n",
    "    Points: 10 \n",
    "    \n",
    "    \n",
    "    (3) Store the tweets you downloaded into a local file (txt file or json file)\n",
    "    Points: 4 \n",
    "    \n",
    "    \n",
    "    -----------------------------------\n",
    "    Qestion 2:\n",
    "    Points: 20\n",
    "    -----------------------------------\n",
    "    \n",
    "    1. Word Count\n",
    "\n",
    "    (1) Use the tweets you collected in Problem 1, and compute the frequencies of the words being used in these tweets.\n",
    "    Points: 4 \n",
    "\n",
    "    (2) Plot a table of the top 30 words with their counts \n",
    "    Points: 4 \n",
    "    \n",
    "    2. Find the most popular tweets in your collection of tweets\n",
    "    plot a table of the top 10 tweets that are the most popular among your collection, i.e., the tweets with the largest number of retweet counts.\n",
    "    Points: 4 \n",
    "    \n",
    "    3. Find the most popular Tweet Entities in your collection of tweets\n",
    "\n",
    "    (1) plot a table of the top 10 hashtags, \n",
    "    Points: 4 \n",
    "\n",
    "    (2) top 10 user mentions that are the most popular in your collection of tweets.\n",
    "    Points: 4 \n",
    "    \n",
    "    \n",
    "    -----------------------------------\n",
    "    Qestion 3:\n",
    "    Points: 20\n",
    "    -----------------------------------\n",
    "    \n",
    "    (1) choose a popular twitter user who has many followers, such as \"ladygaga\".\n",
    "    Points: 4 \n",
    "\n",
    "    (2) Get the list of all friends and all followers of the twitter user.\n",
    "    Points: 4 \n",
    "\n",
    "    (3) Plot 20 out of the followers, plot their ID numbers and screen names in a table.\n",
    "    Points: 4 \n",
    "\n",
    "    (4) Plot 20 out of the friends (if the user has more than 20 friends), plot their ID numbers and screen names in a table.\n",
    "    Points: 4 \n",
    "    \n",
    "    (5) Compute the mutual friends within the two groups, i.e., the users who are in both friend list and follower list, plot their ID numbers and screen names in a table\n",
    "    Points: 4 \n",
    "  \n",
    "    -----------------------------------\n",
    "    Qestion 4:  Explore the data\n",
    "    Points: 20\n",
    "    -----------------------------------\n",
    "        Novelty: 10\n",
    "        Interestingness: 10\n",
    "    -----------------------------------\n",
    "    Run some additional experiments with your data to gain familiarity with the twitter data ant twitter API\n",
    "\n",
    "\n",
    "\n",
    "\n",
    "---------------------------------------------------------------------------\n",
    "** Report: communicate the results**\n",
    "    Points: 20\n",
    "\n",
    "(1) What data you collected?\n",
    "    Points: 5 \n",
    "\n",
    "(2) Why this topic is interesting or important to you? (Motivations)\n",
    "    Points: 5 \n",
    "\n",
    "(3) How did you analyse the data?\n",
    "    Points: 5 \n",
    "\n",
    "(4) What did you find in the data?\n",
    "(please include figures or tables in the report, but no source code)\n",
    "    Points: 5 \n",
    "\n",
    "\n",
    "\n",
    "---------------------------------------------------------------------------\n",
    "** Slides (for 10 minutes of presentation): Story-telling **\n",
    "    Points: 20\n",
    "\n",
    "\n",
    "1. Motivation about the data collection, why the topic is interesting to you.\n",
    "    Points: 5 \n",
    "\n",
    "2. Communicating Results (figure/table)\n",
    "    Points: 10 \n",
    "\n",
    "3. Story telling (How all the parts (data, analysis, result) fit together as a story?)\n",
    "    Points: 5 \n",
    "\n"
   ]
  },
  {
   "cell_type": "code",
   "execution_count": null,
   "metadata": {
    "collapsed": false
   },
   "outputs": [],
   "source": []
  }
 ],
 "metadata": {
  "kernelspec": {
   "display_name": "Python 2",
   "language": "python",
   "name": "python2"
  },
  "language_info": {
   "codemirror_mode": {
    "name": "ipython",
    "version": 2
   },
   "file_extension": ".py",
   "mimetype": "text/x-python",
   "name": "python",
   "nbconvert_exporter": "python",
   "pygments_lexer": "ipython2",
   "version": "2.7.10"
  }
 },
 "nbformat": 4,
 "nbformat_minor": 0
}
